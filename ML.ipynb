{
 "cells": [
  {
   "cell_type": "code",
   "execution_count": 8,
   "outputs": [],
   "source": [
    "import pandas as pd\n",
    "label_df = pd.read_csv(\"/home/kongge/projects/Phd/data/all_labels.csv\")\n",
    "prs_df = pd.read_csv('/home/kongge/projects/Phd/data/Only_PGS.csv')"
   ],
   "metadata": {
    "collapsed": false,
    "ExecuteTime": {
     "end_time": "2024-11-07T11:18:33.385265Z",
     "start_time": "2024-11-07T11:18:27.314756Z"
    }
   }
  },
  {
   "cell_type": "code",
   "execution_count": 9,
   "outputs": [],
   "source": [
    "data = pd.merge(prs_df, label_df, left_on='FID', right_on='eid')"
   ],
   "metadata": {
    "collapsed": false,
    "ExecuteTime": {
     "end_time": "2024-11-07T11:18:33.768244Z",
     "start_time": "2024-11-07T11:18:33.387729Z"
    }
   }
  },
  {
   "cell_type": "code",
   "execution_count": 10,
   "outputs": [
    {
     "data": {
      "text/plain": "(336979, 187)"
     },
     "execution_count": 10,
     "metadata": {},
     "output_type": "execute_result"
    }
   ],
   "source": [
    "data.shape"
   ],
   "metadata": {
    "collapsed": false,
    "ExecuteTime": {
     "end_time": "2024-11-07T11:18:33.770185Z",
     "start_time": "2024-11-07T11:18:33.768571Z"
    }
   }
  },
  {
   "cell_type": "code",
   "execution_count": 11,
   "outputs": [],
   "source": [
    "X = prs_df.drop(columns=['FID'])"
   ],
   "metadata": {
    "collapsed": false,
    "ExecuteTime": {
     "end_time": "2024-11-07T11:18:33.867561Z",
     "start_time": "2024-11-07T11:18:33.768765Z"
    }
   }
  },
  {
   "cell_type": "code",
   "execution_count": 12,
   "outputs": [
    {
     "data": {
      "text/plain": "(336979, 80)"
     },
     "execution_count": 12,
     "metadata": {},
     "output_type": "execute_result"
    }
   ],
   "source": [
    "X.shape"
   ],
   "metadata": {
    "collapsed": false,
    "ExecuteTime": {
     "end_time": "2024-11-07T11:18:36.169480Z",
     "start_time": "2024-11-07T11:18:36.142455Z"
    }
   }
  },
  {
   "cell_type": "code",
   "execution_count": 13,
   "outputs": [],
   "source": [
    "y = label_df.drop(columns=['eid'])"
   ],
   "metadata": {
    "collapsed": false,
    "ExecuteTime": {
     "end_time": "2024-11-07T11:19:15.652151Z",
     "start_time": "2024-11-07T11:19:15.649315Z"
    }
   }
  },
  {
   "cell_type": "code",
   "execution_count": 14,
   "outputs": [
    {
     "data": {
      "text/plain": "(336979, 105)"
     },
     "execution_count": 14,
     "metadata": {},
     "output_type": "execute_result"
    }
   ],
   "source": [
    "y.shape"
   ],
   "metadata": {
    "collapsed": false,
    "ExecuteTime": {
     "end_time": "2024-11-07T11:19:20.771313Z",
     "start_time": "2024-11-07T11:19:20.742318Z"
    }
   }
  },
  {
   "cell_type": "code",
   "execution_count": 18,
   "outputs": [
    {
     "data": {
      "text/plain": "0"
     },
     "execution_count": 18,
     "metadata": {},
     "output_type": "execute_result"
    }
   ],
   "source": [
    "y.isnull().sum().sum()"
   ],
   "metadata": {
    "collapsed": false,
    "ExecuteTime": {
     "end_time": "2024-11-07T11:20:22.940750Z",
     "start_time": "2024-11-07T11:20:22.886525Z"
    }
   }
  },
  {
   "cell_type": "code",
   "execution_count": 20,
   "outputs": [
    {
     "name": "stdout",
     "output_type": "stream",
     "text": [
      "Looking in indexes: https://pypi.tuna.tsinghua.edu.cn/simple/\r\n",
      "Requirement already satisfied: imbalanced-learn in /home/kongge/.conda/envs/kongge_pytorch_cpu/lib/python3.7/site-packages (0.10.1)\r\n",
      "Collecting imbalanced-learn\r\n",
      "  Downloading https://pypi.tuna.tsinghua.edu.cn/packages/d8/0d/c3bfccc5d460eec8ff56889802aa88f5d07280d5282b307a74558e6edc44/imbalanced_learn-0.12.4-py3-none-any.whl (258 kB)\r\n",
      "\u001B[2K     \u001B[90m━━━━━━━━━━━━━━━━━━━━━━━━━━━━━━━━━━━━━━━\u001B[0m \u001B[32m258.3/258.3 kB\u001B[0m \u001B[31m2.8 MB/s\u001B[0m eta \u001B[36m0:00:00\u001B[0m00:01\u001B[0m\r\n",
      "\u001B[?25hRequirement already satisfied: threadpoolctl>=2.0.0 in /home/kongge/.conda/envs/kongge_pytorch_cpu/lib/python3.7/site-packages (from imbalanced-learn) (3.1.0)\r\n",
      "Requirement already satisfied: scikit-learn>=1.0.2 in /home/kongge/.conda/envs/kongge_pytorch_cpu/lib/python3.7/site-packages (from imbalanced-learn) (1.0.2)\r\n",
      "Requirement already satisfied: joblib>=1.1.1 in /home/kongge/.conda/envs/kongge_pytorch_cpu/lib/python3.7/site-packages (from imbalanced-learn) (1.2.0)\r\n",
      "Requirement already satisfied: numpy>=1.17.3 in /home/kongge/.conda/envs/kongge_pytorch_cpu/lib/python3.7/site-packages (from imbalanced-learn) (1.21.5)\r\n",
      "Requirement already satisfied: scipy>=1.5.0 in /home/kongge/.conda/envs/kongge_pytorch_cpu/lib/python3.7/site-packages (from imbalanced-learn) (1.7.3)\r\n",
      "Installing collected packages: imbalanced-learn\r\n",
      "  Attempting uninstall: imbalanced-learn\r\n",
      "    Found existing installation: imbalanced-learn 0.10.1\r\n",
      "    Uninstalling imbalanced-learn-0.10.1:\r\n",
      "      Successfully uninstalled imbalanced-learn-0.10.1\r\n",
      "Successfully installed imbalanced-learn-0.12.4\r\n",
      "Note: you may need to restart the kernel to use updated packages.\n"
     ]
    }
   ],
   "source": [
    "pip install --upgrade imbalanced-learn"
   ],
   "metadata": {
    "collapsed": false,
    "ExecuteTime": {
     "end_time": "2024-11-07T11:22:02.305160Z",
     "start_time": "2024-11-07T11:21:55.898138Z"
    }
   }
  },
  {
   "cell_type": "markdown",
   "source": [],
   "metadata": {
    "collapsed": false
   }
  },
  {
   "cell_type": "code",
   "execution_count": 31,
   "outputs": [],
   "source": [
    "from sklearn.model_selection import train_test_split\n",
    "X_train, X_test, y_train, y_test = train_test_split(X, y, test_size=0.2, random_state=42)"
   ],
   "metadata": {
    "collapsed": false,
    "ExecuteTime": {
     "end_time": "2024-11-07T12:11:06.650558Z",
     "start_time": "2024-11-07T12:11:06.035585Z"
    }
   }
  },
  {
   "cell_type": "code",
   "execution_count": 32,
   "outputs": [
    {
     "data": {
      "text/plain": "              AF       CAD       DCM        HT       ISS       VTE       STK  \\\n333727  0.822660  0.652212  1.015069  0.157939  0.924092 -0.405650  0.349883   \n200703  1.315091  2.690288 -0.103229  2.790996 -1.341288 -1.473949  1.042497   \n44890   0.109502  0.102083  3.056032 -1.240268  1.387456 -0.708312 -1.332807   \n198338 -0.846815 -0.152581  0.858531  0.625978 -1.295693 -0.938884 -1.064840   \n155891  1.370694 -1.279699  1.157835 -0.997492 -0.407646  0.735023 -2.681439   \n...          ...       ...       ...       ...       ...       ...       ...   \n119879 -0.822246  1.309619 -0.619525  2.514850 -1.477214  1.663976  0.451371   \n259178  0.914394  0.284413  1.558108 -0.044281  2.395993  0.452445 -0.007772   \n131932 -0.983418  0.505429  0.555912 -0.825622  0.320348 -0.918190 -1.104035   \n146867  0.692566  0.159414  1.260993  0.222677  0.309454  1.237205  0.846188   \n121958 -0.455315  0.399010 -0.090881  0.511065 -0.843496 -0.489322  0.084617   \n\n              HF        IH       AAA  ...        GM        HB       HIR  \\\n333727 -0.087631 -2.038007  0.598120  ...  1.168651 -0.884286  0.434311   \n200703 -1.580591  0.975190  0.069414  ... -1.354292 -2.640484 -2.271821   \n44890   1.057653 -2.138872  1.772844  ...  0.743734  0.571942  1.792547   \n198338 -0.646639  1.819375  0.261589  ... -1.433963 -0.484939 -2.590601   \n155891  2.666505  0.267222  0.321081  ... -1.194948  0.399326  0.159918   \n...          ...       ...       ...  ...       ...       ...       ...   \n119879 -0.094448  0.692296 -1.159496  ...  1.009307  0.099106 -0.976158   \n259178  1.555307  0.594953 -1.028196  ...  0.770291  0.095480  1.026520   \n131932 -1.430613  1.396819  0.099803  ...  2.469958 -1.347018 -0.488784   \n146867 -1.628311 -0.044726 -0.779552  ... -1.274620 -0.065079 -0.487734   \n121958 -1.307904  2.496967  0.736398  ...  2.284057 -0.634114  1.067517   \n\n             IRM       ISM       NMR        PM       TSH        TM       AST  \n333727  0.229408  1.133883 -1.071869  1.231342 -2.165018  0.240285  1.506544  \n200703 -1.302221  1.817624  0.038104  0.644183  1.182140 -1.037645 -0.628436  \n44890  -0.306317  1.619743  0.565118  1.890026  0.106394  1.303391 -0.616528  \n198338  0.123784  0.701905  0.038104 -0.097592  0.085232 -1.577460  1.167762  \n155891 -0.018817  0.260539  0.038104 -0.343630  0.414197 -1.445260  0.383889  \n...          ...       ...       ...       ...       ...       ...       ...  \n119879  0.902270 -1.593487  0.038104 -0.108222  2.607063  0.008936 -0.456354  \n259178 -0.998043 -0.497368  0.565118 -0.124039 -0.270999 -0.988070  0.074991  \n131932 -0.963222 -1.018091 -1.071869  0.295106 -2.722289  1.226275  1.853827  \n146867 -0.593957  0.007281  0.565118  2.103121 -2.658803  1.171415  0.471001  \n121958  0.925869 -0.617463 -0.784642 -0.401332 -1.875801  0.620360 -0.101453  \n\n[269583 rows x 80 columns]",
      "text/html": "<div>\n<style scoped>\n    .dataframe tbody tr th:only-of-type {\n        vertical-align: middle;\n    }\n\n    .dataframe tbody tr th {\n        vertical-align: top;\n    }\n\n    .dataframe thead th {\n        text-align: right;\n    }\n</style>\n<table border=\"1\" class=\"dataframe\">\n  <thead>\n    <tr style=\"text-align: right;\">\n      <th></th>\n      <th>AF</th>\n      <th>CAD</th>\n      <th>DCM</th>\n      <th>HT</th>\n      <th>ISS</th>\n      <th>VTE</th>\n      <th>STK</th>\n      <th>HF</th>\n      <th>IH</th>\n      <th>AAA</th>\n      <th>...</th>\n      <th>GM</th>\n      <th>HB</th>\n      <th>HIR</th>\n      <th>IRM</th>\n      <th>ISM</th>\n      <th>NMR</th>\n      <th>PM</th>\n      <th>TSH</th>\n      <th>TM</th>\n      <th>AST</th>\n    </tr>\n  </thead>\n  <tbody>\n    <tr>\n      <th>333727</th>\n      <td>0.822660</td>\n      <td>0.652212</td>\n      <td>1.015069</td>\n      <td>0.157939</td>\n      <td>0.924092</td>\n      <td>-0.405650</td>\n      <td>0.349883</td>\n      <td>-0.087631</td>\n      <td>-2.038007</td>\n      <td>0.598120</td>\n      <td>...</td>\n      <td>1.168651</td>\n      <td>-0.884286</td>\n      <td>0.434311</td>\n      <td>0.229408</td>\n      <td>1.133883</td>\n      <td>-1.071869</td>\n      <td>1.231342</td>\n      <td>-2.165018</td>\n      <td>0.240285</td>\n      <td>1.506544</td>\n    </tr>\n    <tr>\n      <th>200703</th>\n      <td>1.315091</td>\n      <td>2.690288</td>\n      <td>-0.103229</td>\n      <td>2.790996</td>\n      <td>-1.341288</td>\n      <td>-1.473949</td>\n      <td>1.042497</td>\n      <td>-1.580591</td>\n      <td>0.975190</td>\n      <td>0.069414</td>\n      <td>...</td>\n      <td>-1.354292</td>\n      <td>-2.640484</td>\n      <td>-2.271821</td>\n      <td>-1.302221</td>\n      <td>1.817624</td>\n      <td>0.038104</td>\n      <td>0.644183</td>\n      <td>1.182140</td>\n      <td>-1.037645</td>\n      <td>-0.628436</td>\n    </tr>\n    <tr>\n      <th>44890</th>\n      <td>0.109502</td>\n      <td>0.102083</td>\n      <td>3.056032</td>\n      <td>-1.240268</td>\n      <td>1.387456</td>\n      <td>-0.708312</td>\n      <td>-1.332807</td>\n      <td>1.057653</td>\n      <td>-2.138872</td>\n      <td>1.772844</td>\n      <td>...</td>\n      <td>0.743734</td>\n      <td>0.571942</td>\n      <td>1.792547</td>\n      <td>-0.306317</td>\n      <td>1.619743</td>\n      <td>0.565118</td>\n      <td>1.890026</td>\n      <td>0.106394</td>\n      <td>1.303391</td>\n      <td>-0.616528</td>\n    </tr>\n    <tr>\n      <th>198338</th>\n      <td>-0.846815</td>\n      <td>-0.152581</td>\n      <td>0.858531</td>\n      <td>0.625978</td>\n      <td>-1.295693</td>\n      <td>-0.938884</td>\n      <td>-1.064840</td>\n      <td>-0.646639</td>\n      <td>1.819375</td>\n      <td>0.261589</td>\n      <td>...</td>\n      <td>-1.433963</td>\n      <td>-0.484939</td>\n      <td>-2.590601</td>\n      <td>0.123784</td>\n      <td>0.701905</td>\n      <td>0.038104</td>\n      <td>-0.097592</td>\n      <td>0.085232</td>\n      <td>-1.577460</td>\n      <td>1.167762</td>\n    </tr>\n    <tr>\n      <th>155891</th>\n      <td>1.370694</td>\n      <td>-1.279699</td>\n      <td>1.157835</td>\n      <td>-0.997492</td>\n      <td>-0.407646</td>\n      <td>0.735023</td>\n      <td>-2.681439</td>\n      <td>2.666505</td>\n      <td>0.267222</td>\n      <td>0.321081</td>\n      <td>...</td>\n      <td>-1.194948</td>\n      <td>0.399326</td>\n      <td>0.159918</td>\n      <td>-0.018817</td>\n      <td>0.260539</td>\n      <td>0.038104</td>\n      <td>-0.343630</td>\n      <td>0.414197</td>\n      <td>-1.445260</td>\n      <td>0.383889</td>\n    </tr>\n    <tr>\n      <th>...</th>\n      <td>...</td>\n      <td>...</td>\n      <td>...</td>\n      <td>...</td>\n      <td>...</td>\n      <td>...</td>\n      <td>...</td>\n      <td>...</td>\n      <td>...</td>\n      <td>...</td>\n      <td>...</td>\n      <td>...</td>\n      <td>...</td>\n      <td>...</td>\n      <td>...</td>\n      <td>...</td>\n      <td>...</td>\n      <td>...</td>\n      <td>...</td>\n      <td>...</td>\n      <td>...</td>\n    </tr>\n    <tr>\n      <th>119879</th>\n      <td>-0.822246</td>\n      <td>1.309619</td>\n      <td>-0.619525</td>\n      <td>2.514850</td>\n      <td>-1.477214</td>\n      <td>1.663976</td>\n      <td>0.451371</td>\n      <td>-0.094448</td>\n      <td>0.692296</td>\n      <td>-1.159496</td>\n      <td>...</td>\n      <td>1.009307</td>\n      <td>0.099106</td>\n      <td>-0.976158</td>\n      <td>0.902270</td>\n      <td>-1.593487</td>\n      <td>0.038104</td>\n      <td>-0.108222</td>\n      <td>2.607063</td>\n      <td>0.008936</td>\n      <td>-0.456354</td>\n    </tr>\n    <tr>\n      <th>259178</th>\n      <td>0.914394</td>\n      <td>0.284413</td>\n      <td>1.558108</td>\n      <td>-0.044281</td>\n      <td>2.395993</td>\n      <td>0.452445</td>\n      <td>-0.007772</td>\n      <td>1.555307</td>\n      <td>0.594953</td>\n      <td>-1.028196</td>\n      <td>...</td>\n      <td>0.770291</td>\n      <td>0.095480</td>\n      <td>1.026520</td>\n      <td>-0.998043</td>\n      <td>-0.497368</td>\n      <td>0.565118</td>\n      <td>-0.124039</td>\n      <td>-0.270999</td>\n      <td>-0.988070</td>\n      <td>0.074991</td>\n    </tr>\n    <tr>\n      <th>131932</th>\n      <td>-0.983418</td>\n      <td>0.505429</td>\n      <td>0.555912</td>\n      <td>-0.825622</td>\n      <td>0.320348</td>\n      <td>-0.918190</td>\n      <td>-1.104035</td>\n      <td>-1.430613</td>\n      <td>1.396819</td>\n      <td>0.099803</td>\n      <td>...</td>\n      <td>2.469958</td>\n      <td>-1.347018</td>\n      <td>-0.488784</td>\n      <td>-0.963222</td>\n      <td>-1.018091</td>\n      <td>-1.071869</td>\n      <td>0.295106</td>\n      <td>-2.722289</td>\n      <td>1.226275</td>\n      <td>1.853827</td>\n    </tr>\n    <tr>\n      <th>146867</th>\n      <td>0.692566</td>\n      <td>0.159414</td>\n      <td>1.260993</td>\n      <td>0.222677</td>\n      <td>0.309454</td>\n      <td>1.237205</td>\n      <td>0.846188</td>\n      <td>-1.628311</td>\n      <td>-0.044726</td>\n      <td>-0.779552</td>\n      <td>...</td>\n      <td>-1.274620</td>\n      <td>-0.065079</td>\n      <td>-0.487734</td>\n      <td>-0.593957</td>\n      <td>0.007281</td>\n      <td>0.565118</td>\n      <td>2.103121</td>\n      <td>-2.658803</td>\n      <td>1.171415</td>\n      <td>0.471001</td>\n    </tr>\n    <tr>\n      <th>121958</th>\n      <td>-0.455315</td>\n      <td>0.399010</td>\n      <td>-0.090881</td>\n      <td>0.511065</td>\n      <td>-0.843496</td>\n      <td>-0.489322</td>\n      <td>0.084617</td>\n      <td>-1.307904</td>\n      <td>2.496967</td>\n      <td>0.736398</td>\n      <td>...</td>\n      <td>2.284057</td>\n      <td>-0.634114</td>\n      <td>1.067517</td>\n      <td>0.925869</td>\n      <td>-0.617463</td>\n      <td>-0.784642</td>\n      <td>-0.401332</td>\n      <td>-1.875801</td>\n      <td>0.620360</td>\n      <td>-0.101453</td>\n    </tr>\n  </tbody>\n</table>\n<p>269583 rows × 80 columns</p>\n</div>"
     },
     "execution_count": 32,
     "metadata": {},
     "output_type": "execute_result"
    }
   ],
   "source": [
    "X_train"
   ],
   "metadata": {
    "collapsed": false,
    "ExecuteTime": {
     "end_time": "2024-11-07T12:11:15.150832Z",
     "start_time": "2024-11-07T12:11:15.090803Z"
    }
   }
  },
  {
   "cell_type": "code",
   "execution_count": null,
   "outputs": [
    {
     "name": "stdout",
     "output_type": "stream",
     "text": [
      "正在训练疾病分类器：Class_A00\n",
      "Class_A00 的 AUPR: 0.0000\n",
      "正在训练疾病分类器：Class_A01\n",
      "Class_A01 的 AUPR: 0.0002\n",
      "正在训练疾病分类器：Class_A02\n",
      "Class_A02 的 AUPR: 0.0015\n",
      "正在训练疾病分类器：Class_A03\n",
      "Class_A03 的 AUPR: 0.0005\n",
      "正在训练疾病分类器：Class_A04\n"
     ]
    }
   ],
   "source": [
    "from sklearn.ensemble import RandomForestClassifier\n",
    "from sklearn.metrics import average_precision_score\n",
    "aupr_results = {}\n",
    "\n",
    "# 针对每个疾病（标签）训练独立的随机森林分类器\n",
    "for disease in y_train.columns:\n",
    "    print(f\"正在训练疾病分类器：{disease}\")\n",
    "\n",
    "    rf_classifier = RandomForestClassifier(class_weight='balanced', n_estimators=100, random_state=42)\n",
    "    rf_classifier.fit(X_train, y_train[disease])\n",
    "    y_pred_proba = rf_classifier.predict_proba(X_test)[:, 1]\n",
    "    aupr = average_precision_score(y_test[disease], y_pred_proba)\n",
    "    aupr_results[disease] = aupr\n",
    "    print(f\"{disease} 的 AUPR: {aupr:.4f}\")"
   ],
   "metadata": {
    "collapsed": false,
    "is_executing": true,
    "ExecuteTime": {
     "start_time": "2024-11-07T12:25:26.824560Z"
    }
   }
  },
  {
   "cell_type": "code",
   "execution_count": null,
   "outputs": [],
   "source": [
    "aupr_df = pd.DataFrame(list(aupr_results.items()), columns=['Disease', 'AUPR']).sort_values(by='AUPR', ascending=False)\n",
    "\n",
    "output_file = \"aupr_results.csv\"\n",
    "aupr_df.to_csv(output_file, index=False, encoding='utf-8')\n",
    "\n",
    "print(f\"AUPR 结果已写入文件：{output_file}\")"
   ],
   "metadata": {
    "collapsed": false,
    "is_executing": true
   }
  },
  {
   "cell_type": "code",
   "execution_count": null,
   "outputs": [],
   "source": [],
   "metadata": {
    "collapsed": false
   }
  }
 ],
 "metadata": {
  "kernelspec": {
   "display_name": "Python 3",
   "language": "python",
   "name": "python3"
  },
  "language_info": {
   "codemirror_mode": {
    "name": "ipython",
    "version": 2
   },
   "file_extension": ".py",
   "mimetype": "text/x-python",
   "name": "python",
   "nbconvert_exporter": "python",
   "pygments_lexer": "ipython2",
   "version": "2.7.6"
  }
 },
 "nbformat": 4,
 "nbformat_minor": 0
}
