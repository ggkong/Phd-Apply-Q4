{
 "cells": [
  {
   "cell_type": "code",
   "execution_count": 1,
   "outputs": [],
   "source": [
    "import pandas as pd"
   ],
   "metadata": {
    "collapsed": false,
    "ExecuteTime": {
     "end_time": "2024-11-07T06:46:55.960916Z",
     "start_time": "2024-11-07T06:46:55.380197Z"
    }
   }
  },
  {
   "cell_type": "code",
   "execution_count": 2,
   "outputs": [],
   "source": [
    "label_df = pd.read_csv(\"/home/kongge/projects/Phd/data/all_labels.csv\")"
   ],
   "metadata": {
    "collapsed": false,
    "ExecuteTime": {
     "end_time": "2024-11-07T06:46:59.901446Z",
     "start_time": "2024-11-07T06:46:56.828069Z"
    }
   }
  },
  {
   "cell_type": "code",
   "execution_count": 5,
   "outputs": [],
   "source": [
    "prs_df = pd.read_csv('/home/kongge/projects/Phd/data/Only_PGS.csv')"
   ],
   "metadata": {
    "collapsed": false,
    "ExecuteTime": {
     "end_time": "2024-11-07T07:21:44.345373Z",
     "start_time": "2024-11-07T07:21:39.235085Z"
    }
   }
  },
  {
   "cell_type": "code",
   "execution_count": 6,
   "outputs": [
    {
     "name": "stdout",
     "output_type": "stream",
     "text": [
      "Labels DataFrame shape: (336979, 106)\n",
      "PRS DataFrame shape: (336979, 81)\n"
     ]
    }
   ],
   "source": [
    "print(\"Labels DataFrame shape:\", label_df.shape)\n",
    "print(\"PRS DataFrame shape:\", prs_df.shape)"
   ],
   "metadata": {
    "collapsed": false,
    "ExecuteTime": {
     "end_time": "2024-11-07T07:21:44.346241Z",
     "start_time": "2024-11-07T07:21:44.345977Z"
    }
   }
  },
  {
   "cell_type": "code",
   "execution_count": 7,
   "outputs": [
    {
     "data": {
      "text/plain": "       eid  Class_A00  Class_A01  Class_A02  Class_A03  Class_A04  Class_A05  \\\n0  1000011          0          0          0          0          0          0   \n1  1000026          0          0          0          0          0          0   \n2  1000044          0          0          0          0          0          0   \n3  1000058          0          0          0          0          0          0   \n4  1000116          0          0          0          0          0          0   \n\n   Class_A06  Class_A07  Class_A08  ...  Class_I48  Class_I63  Class_I10  \\\n0          0          0          0  ...          0          0          0   \n1          0          0          0  ...          0          0          1   \n2          0          0          0  ...          0          0          0   \n3          0          0          0  ...          1          0          1   \n4          0          0          0  ...          0          0          0   \n\n   Class_F00  Class_F20  Class_C50  Class_C18  Class_C56  Class_J45  Class_M05  \n0          0          0          0          0          0          0          0  \n1          0          0          0          0          0          0          0  \n2          0          0          0          0          0          0          0  \n3          0          0          0          0          0          0          0  \n4          0          0          0          0          0          0          0  \n\n[5 rows x 106 columns]",
      "text/html": "<div>\n<style scoped>\n    .dataframe tbody tr th:only-of-type {\n        vertical-align: middle;\n    }\n\n    .dataframe tbody tr th {\n        vertical-align: top;\n    }\n\n    .dataframe thead th {\n        text-align: right;\n    }\n</style>\n<table border=\"1\" class=\"dataframe\">\n  <thead>\n    <tr style=\"text-align: right;\">\n      <th></th>\n      <th>eid</th>\n      <th>Class_A00</th>\n      <th>Class_A01</th>\n      <th>Class_A02</th>\n      <th>Class_A03</th>\n      <th>Class_A04</th>\n      <th>Class_A05</th>\n      <th>Class_A06</th>\n      <th>Class_A07</th>\n      <th>Class_A08</th>\n      <th>...</th>\n      <th>Class_I48</th>\n      <th>Class_I63</th>\n      <th>Class_I10</th>\n      <th>Class_F00</th>\n      <th>Class_F20</th>\n      <th>Class_C50</th>\n      <th>Class_C18</th>\n      <th>Class_C56</th>\n      <th>Class_J45</th>\n      <th>Class_M05</th>\n    </tr>\n  </thead>\n  <tbody>\n    <tr>\n      <th>0</th>\n      <td>1000011</td>\n      <td>0</td>\n      <td>0</td>\n      <td>0</td>\n      <td>0</td>\n      <td>0</td>\n      <td>0</td>\n      <td>0</td>\n      <td>0</td>\n      <td>0</td>\n      <td>...</td>\n      <td>0</td>\n      <td>0</td>\n      <td>0</td>\n      <td>0</td>\n      <td>0</td>\n      <td>0</td>\n      <td>0</td>\n      <td>0</td>\n      <td>0</td>\n      <td>0</td>\n    </tr>\n    <tr>\n      <th>1</th>\n      <td>1000026</td>\n      <td>0</td>\n      <td>0</td>\n      <td>0</td>\n      <td>0</td>\n      <td>0</td>\n      <td>0</td>\n      <td>0</td>\n      <td>0</td>\n      <td>0</td>\n      <td>...</td>\n      <td>0</td>\n      <td>0</td>\n      <td>1</td>\n      <td>0</td>\n      <td>0</td>\n      <td>0</td>\n      <td>0</td>\n      <td>0</td>\n      <td>0</td>\n      <td>0</td>\n    </tr>\n    <tr>\n      <th>2</th>\n      <td>1000044</td>\n      <td>0</td>\n      <td>0</td>\n      <td>0</td>\n      <td>0</td>\n      <td>0</td>\n      <td>0</td>\n      <td>0</td>\n      <td>0</td>\n      <td>0</td>\n      <td>...</td>\n      <td>0</td>\n      <td>0</td>\n      <td>0</td>\n      <td>0</td>\n      <td>0</td>\n      <td>0</td>\n      <td>0</td>\n      <td>0</td>\n      <td>0</td>\n      <td>0</td>\n    </tr>\n    <tr>\n      <th>3</th>\n      <td>1000058</td>\n      <td>0</td>\n      <td>0</td>\n      <td>0</td>\n      <td>0</td>\n      <td>0</td>\n      <td>0</td>\n      <td>0</td>\n      <td>0</td>\n      <td>0</td>\n      <td>...</td>\n      <td>1</td>\n      <td>0</td>\n      <td>1</td>\n      <td>0</td>\n      <td>0</td>\n      <td>0</td>\n      <td>0</td>\n      <td>0</td>\n      <td>0</td>\n      <td>0</td>\n    </tr>\n    <tr>\n      <th>4</th>\n      <td>1000116</td>\n      <td>0</td>\n      <td>0</td>\n      <td>0</td>\n      <td>0</td>\n      <td>0</td>\n      <td>0</td>\n      <td>0</td>\n      <td>0</td>\n      <td>0</td>\n      <td>...</td>\n      <td>0</td>\n      <td>0</td>\n      <td>0</td>\n      <td>0</td>\n      <td>0</td>\n      <td>0</td>\n      <td>0</td>\n      <td>0</td>\n      <td>0</td>\n      <td>0</td>\n    </tr>\n  </tbody>\n</table>\n<p>5 rows × 106 columns</p>\n</div>"
     },
     "execution_count": 7,
     "metadata": {},
     "output_type": "execute_result"
    }
   ],
   "source": [
    "label_df.head() # 0 不患病 1患病 key eid"
   ],
   "metadata": {
    "collapsed": false,
    "ExecuteTime": {
     "end_time": "2024-11-07T07:21:44.546144Z",
     "start_time": "2024-11-07T07:21:44.346300Z"
    }
   }
  },
  {
   "cell_type": "code",
   "execution_count": 8,
   "outputs": [
    {
     "data": {
      "text/plain": "       FID        AF       CAD       DCM        HT       ISS       VTE  \\\n0  1000011 -0.141637 -0.477495 -0.195173  0.931986 -0.894940 -0.473692   \n1  1000026 -1.473287  0.367636 -1.566975  0.309153 -0.882619  1.044783   \n2  1000044  0.585503  2.575461  1.860125  1.589465  0.237156  0.309952   \n3  1000058  0.847278  1.352384 -1.004531  1.490209  1.398947 -1.508763   \n4  1000116 -0.805020 -1.414212 -1.471695 -0.624252 -0.147236 -1.015938   \n\n        STK        HF        IH  ...        GM        HB       HIR       IRM  \\\n0 -0.317333 -1.737386  0.020924  ...  0.079802  0.695521  1.277698  1.504517   \n1 -0.128957 -1.362442 -0.811806  ...  0.026687  1.076239  0.824551  0.690095   \n2  0.659745 -0.803434 -1.499108  ... -1.726094  1.125755 -0.352180 -0.544924   \n3  1.176881 -1.164744  1.711949  ...  0.132917  0.406527 -0.551243 -0.256447   \n4 -0.131356 -1.573774 -0.979470  ...  1.752911 -0.531077  0.120916 -0.138439   \n\n        ISM       NMR        PM       TSH        TM       AST  \n0 -1.692002 -1.071869 -1.125821 -0.288634  1.733040 -0.264657  \n1  0.018237 -1.071869 -0.092784  0.843544  0.983909 -0.596751  \n2 -0.093467 -0.784642 -0.278345  0.444989  0.895999  0.153730  \n3  1.001336 -1.071869  1.090921 -0.241189  0.366977 -0.084286  \n4  0.928665  0.565118 -0.054315 -1.173920 -0.205888 -0.852839  \n\n[5 rows x 81 columns]",
      "text/html": "<div>\n<style scoped>\n    .dataframe tbody tr th:only-of-type {\n        vertical-align: middle;\n    }\n\n    .dataframe tbody tr th {\n        vertical-align: top;\n    }\n\n    .dataframe thead th {\n        text-align: right;\n    }\n</style>\n<table border=\"1\" class=\"dataframe\">\n  <thead>\n    <tr style=\"text-align: right;\">\n      <th></th>\n      <th>FID</th>\n      <th>AF</th>\n      <th>CAD</th>\n      <th>DCM</th>\n      <th>HT</th>\n      <th>ISS</th>\n      <th>VTE</th>\n      <th>STK</th>\n      <th>HF</th>\n      <th>IH</th>\n      <th>...</th>\n      <th>GM</th>\n      <th>HB</th>\n      <th>HIR</th>\n      <th>IRM</th>\n      <th>ISM</th>\n      <th>NMR</th>\n      <th>PM</th>\n      <th>TSH</th>\n      <th>TM</th>\n      <th>AST</th>\n    </tr>\n  </thead>\n  <tbody>\n    <tr>\n      <th>0</th>\n      <td>1000011</td>\n      <td>-0.141637</td>\n      <td>-0.477495</td>\n      <td>-0.195173</td>\n      <td>0.931986</td>\n      <td>-0.894940</td>\n      <td>-0.473692</td>\n      <td>-0.317333</td>\n      <td>-1.737386</td>\n      <td>0.020924</td>\n      <td>...</td>\n      <td>0.079802</td>\n      <td>0.695521</td>\n      <td>1.277698</td>\n      <td>1.504517</td>\n      <td>-1.692002</td>\n      <td>-1.071869</td>\n      <td>-1.125821</td>\n      <td>-0.288634</td>\n      <td>1.733040</td>\n      <td>-0.264657</td>\n    </tr>\n    <tr>\n      <th>1</th>\n      <td>1000026</td>\n      <td>-1.473287</td>\n      <td>0.367636</td>\n      <td>-1.566975</td>\n      <td>0.309153</td>\n      <td>-0.882619</td>\n      <td>1.044783</td>\n      <td>-0.128957</td>\n      <td>-1.362442</td>\n      <td>-0.811806</td>\n      <td>...</td>\n      <td>0.026687</td>\n      <td>1.076239</td>\n      <td>0.824551</td>\n      <td>0.690095</td>\n      <td>0.018237</td>\n      <td>-1.071869</td>\n      <td>-0.092784</td>\n      <td>0.843544</td>\n      <td>0.983909</td>\n      <td>-0.596751</td>\n    </tr>\n    <tr>\n      <th>2</th>\n      <td>1000044</td>\n      <td>0.585503</td>\n      <td>2.575461</td>\n      <td>1.860125</td>\n      <td>1.589465</td>\n      <td>0.237156</td>\n      <td>0.309952</td>\n      <td>0.659745</td>\n      <td>-0.803434</td>\n      <td>-1.499108</td>\n      <td>...</td>\n      <td>-1.726094</td>\n      <td>1.125755</td>\n      <td>-0.352180</td>\n      <td>-0.544924</td>\n      <td>-0.093467</td>\n      <td>-0.784642</td>\n      <td>-0.278345</td>\n      <td>0.444989</td>\n      <td>0.895999</td>\n      <td>0.153730</td>\n    </tr>\n    <tr>\n      <th>3</th>\n      <td>1000058</td>\n      <td>0.847278</td>\n      <td>1.352384</td>\n      <td>-1.004531</td>\n      <td>1.490209</td>\n      <td>1.398947</td>\n      <td>-1.508763</td>\n      <td>1.176881</td>\n      <td>-1.164744</td>\n      <td>1.711949</td>\n      <td>...</td>\n      <td>0.132917</td>\n      <td>0.406527</td>\n      <td>-0.551243</td>\n      <td>-0.256447</td>\n      <td>1.001336</td>\n      <td>-1.071869</td>\n      <td>1.090921</td>\n      <td>-0.241189</td>\n      <td>0.366977</td>\n      <td>-0.084286</td>\n    </tr>\n    <tr>\n      <th>4</th>\n      <td>1000116</td>\n      <td>-0.805020</td>\n      <td>-1.414212</td>\n      <td>-1.471695</td>\n      <td>-0.624252</td>\n      <td>-0.147236</td>\n      <td>-1.015938</td>\n      <td>-0.131356</td>\n      <td>-1.573774</td>\n      <td>-0.979470</td>\n      <td>...</td>\n      <td>1.752911</td>\n      <td>-0.531077</td>\n      <td>0.120916</td>\n      <td>-0.138439</td>\n      <td>0.928665</td>\n      <td>0.565118</td>\n      <td>-0.054315</td>\n      <td>-1.173920</td>\n      <td>-0.205888</td>\n      <td>-0.852839</td>\n    </tr>\n  </tbody>\n</table>\n<p>5 rows × 81 columns</p>\n</div>"
     },
     "execution_count": 8,
     "metadata": {},
     "output_type": "execute_result"
    }
   ],
   "source": [
    "prs_df.head() # key FID"
   ],
   "metadata": {
    "collapsed": false,
    "ExecuteTime": {
     "end_time": "2024-11-07T07:21:44.702017Z",
     "start_time": "2024-11-07T07:21:44.675121Z"
    }
   }
  },
  {
   "cell_type": "code",
   "execution_count": 9,
   "outputs": [],
   "source": [
    "data = pd.merge(prs_df, label_df, left_on='FID', right_on='eid')"
   ],
   "metadata": {
    "collapsed": false,
    "ExecuteTime": {
     "end_time": "2024-11-07T07:21:45.986053Z",
     "start_time": "2024-11-07T07:21:44.705567Z"
    }
   }
  },
  {
   "cell_type": "code",
   "execution_count": 10,
   "outputs": [
    {
     "data": {
      "text/plain": "(336979, 187)"
     },
     "execution_count": 10,
     "metadata": {},
     "output_type": "execute_result"
    }
   ],
   "source": [
    "data.shape"
   ],
   "metadata": {
    "collapsed": false,
    "ExecuteTime": {
     "end_time": "2024-11-07T07:21:45.988426Z",
     "start_time": "2024-11-07T07:21:45.986271Z"
    }
   }
  },
  {
   "cell_type": "code",
   "execution_count": 11,
   "outputs": [
    {
     "data": {
      "text/plain": "       FID        AF       CAD       DCM        HT       ISS       VTE  \\\n0  1000011 -0.141637 -0.477495 -0.195173  0.931986 -0.894940 -0.473692   \n1  1000026 -1.473287  0.367636 -1.566975  0.309153 -0.882619  1.044783   \n2  1000044  0.585503  2.575461  1.860125  1.589465  0.237156  0.309952   \n3  1000058  0.847278  1.352384 -1.004531  1.490209  1.398947 -1.508763   \n4  1000116 -0.805020 -1.414212 -1.471695 -0.624252 -0.147236 -1.015938   \n\n        STK        HF        IH  ...  Class_I48  Class_I63  Class_I10  \\\n0 -0.317333 -1.737386  0.020924  ...          0          0          0   \n1 -0.128957 -1.362442 -0.811806  ...          0          0          1   \n2  0.659745 -0.803434 -1.499108  ...          0          0          0   \n3  1.176881 -1.164744  1.711949  ...          1          0          1   \n4 -0.131356 -1.573774 -0.979470  ...          0          0          0   \n\n   Class_F00  Class_F20  Class_C50  Class_C18  Class_C56  Class_J45  Class_M05  \n0          0          0          0          0          0          0          0  \n1          0          0          0          0          0          0          0  \n2          0          0          0          0          0          0          0  \n3          0          0          0          0          0          0          0  \n4          0          0          0          0          0          0          0  \n\n[5 rows x 187 columns]",
      "text/html": "<div>\n<style scoped>\n    .dataframe tbody tr th:only-of-type {\n        vertical-align: middle;\n    }\n\n    .dataframe tbody tr th {\n        vertical-align: top;\n    }\n\n    .dataframe thead th {\n        text-align: right;\n    }\n</style>\n<table border=\"1\" class=\"dataframe\">\n  <thead>\n    <tr style=\"text-align: right;\">\n      <th></th>\n      <th>FID</th>\n      <th>AF</th>\n      <th>CAD</th>\n      <th>DCM</th>\n      <th>HT</th>\n      <th>ISS</th>\n      <th>VTE</th>\n      <th>STK</th>\n      <th>HF</th>\n      <th>IH</th>\n      <th>...</th>\n      <th>Class_I48</th>\n      <th>Class_I63</th>\n      <th>Class_I10</th>\n      <th>Class_F00</th>\n      <th>Class_F20</th>\n      <th>Class_C50</th>\n      <th>Class_C18</th>\n      <th>Class_C56</th>\n      <th>Class_J45</th>\n      <th>Class_M05</th>\n    </tr>\n  </thead>\n  <tbody>\n    <tr>\n      <th>0</th>\n      <td>1000011</td>\n      <td>-0.141637</td>\n      <td>-0.477495</td>\n      <td>-0.195173</td>\n      <td>0.931986</td>\n      <td>-0.894940</td>\n      <td>-0.473692</td>\n      <td>-0.317333</td>\n      <td>-1.737386</td>\n      <td>0.020924</td>\n      <td>...</td>\n      <td>0</td>\n      <td>0</td>\n      <td>0</td>\n      <td>0</td>\n      <td>0</td>\n      <td>0</td>\n      <td>0</td>\n      <td>0</td>\n      <td>0</td>\n      <td>0</td>\n    </tr>\n    <tr>\n      <th>1</th>\n      <td>1000026</td>\n      <td>-1.473287</td>\n      <td>0.367636</td>\n      <td>-1.566975</td>\n      <td>0.309153</td>\n      <td>-0.882619</td>\n      <td>1.044783</td>\n      <td>-0.128957</td>\n      <td>-1.362442</td>\n      <td>-0.811806</td>\n      <td>...</td>\n      <td>0</td>\n      <td>0</td>\n      <td>1</td>\n      <td>0</td>\n      <td>0</td>\n      <td>0</td>\n      <td>0</td>\n      <td>0</td>\n      <td>0</td>\n      <td>0</td>\n    </tr>\n    <tr>\n      <th>2</th>\n      <td>1000044</td>\n      <td>0.585503</td>\n      <td>2.575461</td>\n      <td>1.860125</td>\n      <td>1.589465</td>\n      <td>0.237156</td>\n      <td>0.309952</td>\n      <td>0.659745</td>\n      <td>-0.803434</td>\n      <td>-1.499108</td>\n      <td>...</td>\n      <td>0</td>\n      <td>0</td>\n      <td>0</td>\n      <td>0</td>\n      <td>0</td>\n      <td>0</td>\n      <td>0</td>\n      <td>0</td>\n      <td>0</td>\n      <td>0</td>\n    </tr>\n    <tr>\n      <th>3</th>\n      <td>1000058</td>\n      <td>0.847278</td>\n      <td>1.352384</td>\n      <td>-1.004531</td>\n      <td>1.490209</td>\n      <td>1.398947</td>\n      <td>-1.508763</td>\n      <td>1.176881</td>\n      <td>-1.164744</td>\n      <td>1.711949</td>\n      <td>...</td>\n      <td>1</td>\n      <td>0</td>\n      <td>1</td>\n      <td>0</td>\n      <td>0</td>\n      <td>0</td>\n      <td>0</td>\n      <td>0</td>\n      <td>0</td>\n      <td>0</td>\n    </tr>\n    <tr>\n      <th>4</th>\n      <td>1000116</td>\n      <td>-0.805020</td>\n      <td>-1.414212</td>\n      <td>-1.471695</td>\n      <td>-0.624252</td>\n      <td>-0.147236</td>\n      <td>-1.015938</td>\n      <td>-0.131356</td>\n      <td>-1.573774</td>\n      <td>-0.979470</td>\n      <td>...</td>\n      <td>0</td>\n      <td>0</td>\n      <td>0</td>\n      <td>0</td>\n      <td>0</td>\n      <td>0</td>\n      <td>0</td>\n      <td>0</td>\n      <td>0</td>\n      <td>0</td>\n    </tr>\n  </tbody>\n</table>\n<p>5 rows × 187 columns</p>\n</div>"
     },
     "execution_count": 11,
     "metadata": {},
     "output_type": "execute_result"
    }
   ],
   "source": [
    "data.head()"
   ],
   "metadata": {
    "collapsed": false,
    "ExecuteTime": {
     "end_time": "2024-11-07T07:21:46.123281Z",
     "start_time": "2024-11-07T07:21:45.986602Z"
    }
   }
  },
  {
   "cell_type": "code",
   "execution_count": 12,
   "outputs": [],
   "source": [
    "data = data.drop(columns=['FID', 'eid'])"
   ],
   "metadata": {
    "collapsed": false,
    "ExecuteTime": {
     "end_time": "2024-11-07T07:21:48.862682Z",
     "start_time": "2024-11-07T07:21:46.114232Z"
    }
   }
  },
  {
   "cell_type": "code",
   "execution_count": 13,
   "outputs": [],
   "source": [
    "feature_columns = [col for col in data.columns if not col.startswith('Class_')]\n",
    "label_columns = [col for col in data.columns if col.startswith('Class_')]"
   ],
   "metadata": {
    "collapsed": false,
    "ExecuteTime": {
     "end_time": "2024-11-07T07:21:48.863856Z",
     "start_time": "2024-11-07T07:21:48.860967Z"
    }
   }
  },
  {
   "cell_type": "code",
   "execution_count": 14,
   "outputs": [],
   "source": [
    "X = data[feature_columns]\n",
    "y = data[label_columns]"
   ],
   "metadata": {
    "collapsed": false,
    "ExecuteTime": {
     "end_time": "2024-11-07T07:21:57.438020Z",
     "start_time": "2024-11-07T07:21:57.426433Z"
    }
   }
  },
  {
   "cell_type": "code",
   "execution_count": 15,
   "outputs": [
    {
     "name": "stdout",
     "output_type": "stream",
     "text": [
      "Looking in indexes: https://pypi.tuna.tsinghua.edu.cn/simple/\r\n",
      "Requirement already satisfied: scikit-learn in /home/kongge/.conda/envs/kongge_pytorch_cpu/lib/python3.7/site-packages (1.0.2)\r\n",
      "Requirement already satisfied: joblib>=0.11 in /home/kongge/.conda/envs/kongge_pytorch_cpu/lib/python3.7/site-packages (from scikit-learn) (1.2.0)\r\n",
      "Requirement already satisfied: numpy>=1.14.6 in /home/kongge/.conda/envs/kongge_pytorch_cpu/lib/python3.7/site-packages (from scikit-learn) (1.21.5)\r\n",
      "Requirement already satisfied: threadpoolctl>=2.0.0 in /home/kongge/.conda/envs/kongge_pytorch_cpu/lib/python3.7/site-packages (from scikit-learn) (3.1.0)\r\n",
      "Requirement already satisfied: scipy>=1.1.0 in /home/kongge/.conda/envs/kongge_pytorch_cpu/lib/python3.7/site-packages (from scikit-learn) (1.7.3)\r\n",
      "Note: you may need to restart the kernel to use updated packages.\n"
     ]
    }
   ],
   "source": [
    "pip install scikit-learn"
   ],
   "metadata": {
    "collapsed": false,
    "ExecuteTime": {
     "end_time": "2024-11-07T07:22:09.672928Z",
     "start_time": "2024-11-07T07:22:03.483290Z"
    }
   }
  },
  {
   "cell_type": "code",
   "execution_count": 16,
   "outputs": [],
   "source": [
    "from sklearn.model_selection import train_test_split"
   ],
   "metadata": {
    "collapsed": false,
    "ExecuteTime": {
     "end_time": "2024-11-07T07:22:16.938188Z",
     "start_time": "2024-11-07T07:22:09.620769Z"
    }
   }
  },
  {
   "cell_type": "code",
   "execution_count": 17,
   "outputs": [],
   "source": [
    "X_train, X_test, y_train, y_test = train_test_split(X, y, test_size=0.2, random_state=42)"
   ],
   "metadata": {
    "collapsed": false,
    "ExecuteTime": {
     "end_time": "2024-11-07T07:22:18.333170Z",
     "start_time": "2024-11-07T07:22:16.988773Z"
    }
   }
  },
  {
   "cell_type": "code",
   "execution_count": 18,
   "outputs": [
    {
     "data": {
      "text/plain": "(269583, 80)"
     },
     "execution_count": 18,
     "metadata": {},
     "output_type": "execute_result"
    }
   ],
   "source": [
    "X_train.shape"
   ],
   "metadata": {
    "collapsed": false,
    "ExecuteTime": {
     "end_time": "2024-11-07T07:22:18.346743Z",
     "start_time": "2024-11-07T07:22:18.320124Z"
    }
   }
  },
  {
   "cell_type": "code",
   "execution_count": 19,
   "outputs": [],
   "source": [
    "from sklearn.ensemble import RandomForestClassifier\n",
    "from sklearn.metrics import accuracy_score, roc_auc_score"
   ],
   "metadata": {
    "collapsed": false,
    "ExecuteTime": {
     "end_time": "2024-11-07T07:22:19.925124Z",
     "start_time": "2024-11-07T07:22:18.320457Z"
    }
   }
  },
  {
   "cell_type": "code",
   "execution_count": 20,
   "outputs": [],
   "source": [
    "target_disease = 'Class_A00'"
   ],
   "metadata": {
    "collapsed": false,
    "ExecuteTime": {
     "end_time": "2024-11-07T07:22:19.935893Z",
     "start_time": "2024-11-07T07:22:19.924743Z"
    }
   }
  },
  {
   "cell_type": "code",
   "execution_count": 21,
   "outputs": [
    {
     "data": {
      "text/plain": "RandomForestClassifier(random_state=42)"
     },
     "execution_count": 21,
     "metadata": {},
     "output_type": "execute_result"
    }
   ],
   "source": [
    "model = RandomForestClassifier(n_estimators=100, random_state=42)\n",
    "model.fit(X_train, y_train[target_disease])"
   ],
   "metadata": {
    "collapsed": false,
    "ExecuteTime": {
     "end_time": "2024-11-07T07:23:49.032246Z",
     "start_time": "2024-11-07T07:22:19.932969Z"
    }
   }
  },
  {
   "cell_type": "code",
   "execution_count": 22,
   "outputs": [],
   "source": [
    "y_pred = model.predict(X_test)\n",
    "y_pred_proba = model.predict_proba(X_test)[:, 1]"
   ],
   "metadata": {
    "collapsed": false,
    "ExecuteTime": {
     "end_time": "2024-11-07T07:23:49.452576Z",
     "start_time": "2024-11-07T07:23:48.955553Z"
    }
   }
  },
  {
   "cell_type": "code",
   "execution_count": 23,
   "outputs": [],
   "source": [
    "accuracy = accuracy_score(y_test[target_disease], y_pred)\n",
    "auc = roc_auc_score(y_test[target_disease], y_pred_proba)"
   ],
   "metadata": {
    "collapsed": false,
    "ExecuteTime": {
     "end_time": "2024-11-07T07:23:49.575669Z",
     "start_time": "2024-11-07T07:23:49.456658Z"
    }
   }
  },
  {
   "cell_type": "code",
   "execution_count": 24,
   "outputs": [
    {
     "data": {
      "text/plain": "0.9999851623241736"
     },
     "execution_count": 24,
     "metadata": {},
     "output_type": "execute_result"
    }
   ],
   "source": [
    "accuracy # ACC 这个指标没有任何作用"
   ],
   "metadata": {
    "collapsed": false,
    "ExecuteTime": {
     "end_time": "2024-11-07T07:23:49.583675Z",
     "start_time": "2024-11-07T07:23:49.573991Z"
    }
   }
  },
  {
   "cell_type": "code",
   "execution_count": 25,
   "outputs": [
    {
     "data": {
      "text/plain": "0.496386972327324"
     },
     "execution_count": 25,
     "metadata": {},
     "output_type": "execute_result"
    }
   ],
   "source": [
    "auc # 基本可以推测预测结果基本没有患病的 模型无用"
   ],
   "metadata": {
    "collapsed": false,
    "ExecuteTime": {
     "end_time": "2024-11-07T07:23:49.594325Z",
     "start_time": "2024-11-07T07:23:49.580617Z"
    }
   }
  },
  {
   "cell_type": "code",
   "execution_count": 26,
   "outputs": [],
   "source": [
    "from collections import Counter"
   ],
   "metadata": {
    "collapsed": false,
    "ExecuteTime": {
     "end_time": "2024-11-07T07:23:49.756982Z",
     "start_time": "2024-11-07T07:23:49.629621Z"
    }
   }
  },
  {
   "cell_type": "code",
   "execution_count": 27,
   "outputs": [
    {
     "data": {
      "text/plain": "Counter({0: 67395, 1: 1})"
     },
     "execution_count": 27,
     "metadata": {},
     "output_type": "execute_result"
    }
   ],
   "source": [
    "Counter(y_test[target_disease])"
   ],
   "metadata": {
    "collapsed": false,
    "ExecuteTime": {
     "end_time": "2024-11-07T07:23:49.773649Z",
     "start_time": "2024-11-07T07:23:49.754570Z"
    }
   }
  },
  {
   "cell_type": "code",
   "execution_count": 28,
   "outputs": [],
   "source": [
    "label_columns_table = [col for col in y.columns]\n",
    "class_counts = {label: Counter(y_test[label]) for label in label_columns}\n",
    "class_counts_df = pd.DataFrame(class_counts).T\n",
    "class_counts_df.columns = ['Count_0', 'Count_1']"
   ],
   "metadata": {
    "collapsed": false,
    "ExecuteTime": {
     "end_time": "2024-11-07T07:23:50.363354Z",
     "start_time": "2024-11-07T07:23:49.769606Z"
    }
   }
  },
  {
   "cell_type": "code",
   "execution_count": 29,
   "outputs": [
    {
     "data": {
      "text/plain": "           Count_0  Count_1\nClass_A00  67395.0      1.0\nClass_A01  67380.0     16.0\nClass_A02  67294.0    102.0\nClass_A03  67367.0     29.0\nClass_A04  66283.0   1113.0\n...            ...      ...\nClass_C50  64811.0   2585.0\nClass_C18  65960.0   1436.0\nClass_C56  67132.0    264.0\nClass_J45  57425.0   9971.0\nClass_M05  65622.0   1774.0\n\n[105 rows x 2 columns]",
      "text/html": "<div>\n<style scoped>\n    .dataframe tbody tr th:only-of-type {\n        vertical-align: middle;\n    }\n\n    .dataframe tbody tr th {\n        vertical-align: top;\n    }\n\n    .dataframe thead th {\n        text-align: right;\n    }\n</style>\n<table border=\"1\" class=\"dataframe\">\n  <thead>\n    <tr style=\"text-align: right;\">\n      <th></th>\n      <th>Count_0</th>\n      <th>Count_1</th>\n    </tr>\n  </thead>\n  <tbody>\n    <tr>\n      <th>Class_A00</th>\n      <td>67395.0</td>\n      <td>1.0</td>\n    </tr>\n    <tr>\n      <th>Class_A01</th>\n      <td>67380.0</td>\n      <td>16.0</td>\n    </tr>\n    <tr>\n      <th>Class_A02</th>\n      <td>67294.0</td>\n      <td>102.0</td>\n    </tr>\n    <tr>\n      <th>Class_A03</th>\n      <td>67367.0</td>\n      <td>29.0</td>\n    </tr>\n    <tr>\n      <th>Class_A04</th>\n      <td>66283.0</td>\n      <td>1113.0</td>\n    </tr>\n    <tr>\n      <th>...</th>\n      <td>...</td>\n      <td>...</td>\n    </tr>\n    <tr>\n      <th>Class_C50</th>\n      <td>64811.0</td>\n      <td>2585.0</td>\n    </tr>\n    <tr>\n      <th>Class_C18</th>\n      <td>65960.0</td>\n      <td>1436.0</td>\n    </tr>\n    <tr>\n      <th>Class_C56</th>\n      <td>67132.0</td>\n      <td>264.0</td>\n    </tr>\n    <tr>\n      <th>Class_J45</th>\n      <td>57425.0</td>\n      <td>9971.0</td>\n    </tr>\n    <tr>\n      <th>Class_M05</th>\n      <td>65622.0</td>\n      <td>1774.0</td>\n    </tr>\n  </tbody>\n</table>\n<p>105 rows × 2 columns</p>\n</div>"
     },
     "execution_count": 29,
     "metadata": {},
     "output_type": "execute_result"
    }
   ],
   "source": [
    "class_counts_df"
   ],
   "metadata": {
    "collapsed": false,
    "ExecuteTime": {
     "end_time": "2024-11-07T07:23:50.372508Z",
     "start_time": "2024-11-07T07:23:50.370634Z"
    }
   }
  },
  {
   "cell_type": "code",
   "execution_count": 30,
   "outputs": [],
   "source": [
    "# 测试一下Class_I10"
   ],
   "metadata": {
    "collapsed": false,
    "ExecuteTime": {
     "end_time": "2024-11-07T07:24:19.117901Z",
     "start_time": "2024-11-07T07:24:19.092417Z"
    }
   }
  },
  {
   "cell_type": "code",
   "execution_count": 31,
   "outputs": [
    {
     "data": {
      "text/plain": "RandomForestClassifier(random_state=42)"
     },
     "execution_count": 31,
     "metadata": {},
     "output_type": "execute_result"
    }
   ],
   "source": [
    "target_disease = 'Class_I10'\n",
    "model = RandomForestClassifier(n_estimators=100, random_state=42)\n",
    "model.fit(X_train, y_train[target_disease])"
   ],
   "metadata": {
    "collapsed": false,
    "ExecuteTime": {
     "end_time": "2024-11-07T07:28:54.684068Z",
     "start_time": "2024-11-07T07:24:19.636175Z"
    }
   }
  },
  {
   "cell_type": "code",
   "execution_count": 32,
   "outputs": [],
   "source": [
    "y_pred = model.predict(X_test)\n",
    "y_pred_proba = model.predict_proba(X_test)[:, 1]\n",
    "accuracy = accuracy_score(y_test[target_disease], y_pred)\n",
    "auc = roc_auc_score(y_test[target_disease], y_pred_proba)"
   ],
   "metadata": {
    "collapsed": false,
    "ExecuteTime": {
     "end_time": "2024-11-07T07:28:59.647273Z",
     "start_time": "2024-11-07T07:28:54.681303Z"
    }
   }
  },
  {
   "cell_type": "code",
   "execution_count": 33,
   "outputs": [
    {
     "data": {
      "text/plain": "(0.6753666604916784, 0.6494153955724375)"
     },
     "execution_count": 33,
     "metadata": {},
     "output_type": "execute_result"
    }
   ],
   "source": [
    "auc,accuracy # 都不是很高哎 random forest 算法表现不佳"
   ],
   "metadata": {
    "collapsed": false,
    "ExecuteTime": {
     "end_time": "2024-11-07T07:28:59.656099Z",
     "start_time": "2024-11-07T07:28:59.645038Z"
    }
   }
  },
  {
   "cell_type": "code",
   "execution_count": null,
   "outputs": [],
   "source": [
    "# 如果我将疾病也作为特征放入深度学习，效果会不会更好呢？"
   ],
   "metadata": {
    "collapsed": false
   }
  }
 ],
 "metadata": {
  "kernelspec": {
   "display_name": "Python 3",
   "language": "python",
   "name": "python3"
  },
  "language_info": {
   "codemirror_mode": {
    "name": "ipython",
    "version": 2
   },
   "file_extension": ".py",
   "mimetype": "text/x-python",
   "name": "python",
   "nbconvert_exporter": "python",
   "pygments_lexer": "ipython2",
   "version": "2.7.6"
  }
 },
 "nbformat": 4,
 "nbformat_minor": 0
}
