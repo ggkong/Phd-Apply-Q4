{
 "cells": [
  {
   "cell_type": "code",
   "execution_count": 1,
   "metadata": {
    "collapsed": true,
    "ExecuteTime": {
     "end_time": "2024-11-08T03:03:27.942702Z",
     "start_time": "2024-11-08T03:03:25.694600Z"
    }
   },
   "outputs": [],
   "source": [
    "import pandas as pd\n",
    "import numpy as np\n",
    "from sklearn.model_selection import train_test_split\n",
    "import torch\n",
    "import torch.nn as nn\n",
    "import torch.optim as optim\n",
    "from torch.utils.data import DataLoader, TensorDataset"
   ]
  },
  {
   "cell_type": "code",
   "execution_count": 2,
   "outputs": [],
   "source": [
    "label_df = pd.read_csv(\"/home/kongge/projects/Phd/data/all_labels.csv\")\n",
    "prs_df = pd.read_csv('/home/kongge/projects/Phd/data/Only_PGS.csv')\n",
    "data = pd.merge(prs_df, label_df, left_on='FID', right_on='eid')"
   ],
   "metadata": {
    "collapsed": false,
    "ExecuteTime": {
     "end_time": "2024-11-08T03:03:51.508169Z",
     "start_time": "2024-11-08T03:03:40.067317Z"
    }
   }
  },
  {
   "cell_type": "code",
   "execution_count": 3,
   "outputs": [
    {
     "data": {
      "text/plain": "            FID        AF       CAD       DCM        HT       ISS       VTE  \\\n0       1000011 -0.141637 -0.477495 -0.195173  0.931986 -0.894940 -0.473692   \n1       1000026 -1.473287  0.367636 -1.566975  0.309153 -0.882619  1.044783   \n2       1000044  0.585503  2.575461  1.860125  1.589465  0.237156  0.309952   \n3       1000058  0.847278  1.352384 -1.004531  1.490209  1.398947 -1.508763   \n4       1000116 -0.805020 -1.414212 -1.471695 -0.624252 -0.147236 -1.015938   \n...         ...       ...       ...       ...       ...       ...       ...   \n336974  6023498 -0.779058  0.723359  0.627861  0.608226  0.502332 -0.416751   \n336975  6023514  1.169570 -1.041206  0.685736  0.225246  0.006642  1.845830   \n336976  6023529  1.536596 -0.944525 -1.870310 -1.580533  0.422397  0.295691   \n336977  6023541 -0.441969 -1.006966  2.482164  1.721099  0.079389 -1.418951   \n336978  6023565 -0.353833  0.647860  0.960631 -0.104022 -0.446332  0.060595   \n\n             STK        HF        IH  ...        GM        HB       HIR  \\\n0      -0.317333 -1.737386  0.020924  ...  0.079802  0.695521  1.277698   \n1      -0.128957 -1.362442 -0.811806  ...  0.026687  1.076239  0.824551   \n2       0.659745 -0.803434 -1.499108  ... -1.726094  1.125755 -0.352180   \n3       1.176881 -1.164744  1.711949  ...  0.132917  0.406527 -0.551243   \n4      -0.131356 -1.573774 -0.979470  ...  1.752911 -0.531077  0.120916   \n...          ...       ...       ...  ...       ...       ...       ...   \n336974  0.846122  1.364426  0.426492  ...  0.026687 -0.632701  0.033418   \n336975 -1.305210 -0.128534  0.239780  ...  1.062422 -0.736056  0.243756   \n336976  1.207604 -0.898874  0.581479  ... -0.345115  0.528340  1.535187   \n336977  0.887717  0.580452  0.091717  ... -0.159214 -1.723317 -1.550319   \n336978 -1.187625  0.219142 -1.250758  ... -1.168391 -0.705962  0.219643   \n\n             IRM       ISM       NMR        PM       TSH        TM       AST  \n0       1.504517 -1.692002 -1.071869 -1.125821 -0.288634  1.733040 -0.264657  \n1       0.690095  0.018237 -1.071869 -0.092784  0.843544  0.983909 -0.596751  \n2      -0.544924 -0.093467 -0.784642 -0.278345  0.444989  0.895999  0.153730  \n3      -0.256447  1.001336 -1.071869  1.090921 -0.241189  0.366977 -0.084286  \n4      -0.138439  0.928665  0.565118 -0.054315 -1.173920 -0.205888 -0.852839  \n...          ...       ...       ...       ...       ...       ...       ...  \n336974  0.165458 -0.954425  0.038104 -1.563399  0.586071  0.152152 -0.977810  \n336975  1.266113  0.187791 -1.071869 -0.570433 -0.486148  0.664426 -0.221420  \n336976  0.872027 -0.182953  1.675091  0.401696  0.794166 -2.078717  0.779929  \n336977 -0.558635  0.989086 -1.071869  0.002586 -0.034688 -0.387663  0.904508  \n336978  0.574246 -0.628420  0.565118 -0.970344  1.802898 -2.557941  0.163145  \n\n[336979 rows x 81 columns]",
      "text/html": "<div>\n<style scoped>\n    .dataframe tbody tr th:only-of-type {\n        vertical-align: middle;\n    }\n\n    .dataframe tbody tr th {\n        vertical-align: top;\n    }\n\n    .dataframe thead th {\n        text-align: right;\n    }\n</style>\n<table border=\"1\" class=\"dataframe\">\n  <thead>\n    <tr style=\"text-align: right;\">\n      <th></th>\n      <th>FID</th>\n      <th>AF</th>\n      <th>CAD</th>\n      <th>DCM</th>\n      <th>HT</th>\n      <th>ISS</th>\n      <th>VTE</th>\n      <th>STK</th>\n      <th>HF</th>\n      <th>IH</th>\n      <th>...</th>\n      <th>GM</th>\n      <th>HB</th>\n      <th>HIR</th>\n      <th>IRM</th>\n      <th>ISM</th>\n      <th>NMR</th>\n      <th>PM</th>\n      <th>TSH</th>\n      <th>TM</th>\n      <th>AST</th>\n    </tr>\n  </thead>\n  <tbody>\n    <tr>\n      <th>0</th>\n      <td>1000011</td>\n      <td>-0.141637</td>\n      <td>-0.477495</td>\n      <td>-0.195173</td>\n      <td>0.931986</td>\n      <td>-0.894940</td>\n      <td>-0.473692</td>\n      <td>-0.317333</td>\n      <td>-1.737386</td>\n      <td>0.020924</td>\n      <td>...</td>\n      <td>0.079802</td>\n      <td>0.695521</td>\n      <td>1.277698</td>\n      <td>1.504517</td>\n      <td>-1.692002</td>\n      <td>-1.071869</td>\n      <td>-1.125821</td>\n      <td>-0.288634</td>\n      <td>1.733040</td>\n      <td>-0.264657</td>\n    </tr>\n    <tr>\n      <th>1</th>\n      <td>1000026</td>\n      <td>-1.473287</td>\n      <td>0.367636</td>\n      <td>-1.566975</td>\n      <td>0.309153</td>\n      <td>-0.882619</td>\n      <td>1.044783</td>\n      <td>-0.128957</td>\n      <td>-1.362442</td>\n      <td>-0.811806</td>\n      <td>...</td>\n      <td>0.026687</td>\n      <td>1.076239</td>\n      <td>0.824551</td>\n      <td>0.690095</td>\n      <td>0.018237</td>\n      <td>-1.071869</td>\n      <td>-0.092784</td>\n      <td>0.843544</td>\n      <td>0.983909</td>\n      <td>-0.596751</td>\n    </tr>\n    <tr>\n      <th>2</th>\n      <td>1000044</td>\n      <td>0.585503</td>\n      <td>2.575461</td>\n      <td>1.860125</td>\n      <td>1.589465</td>\n      <td>0.237156</td>\n      <td>0.309952</td>\n      <td>0.659745</td>\n      <td>-0.803434</td>\n      <td>-1.499108</td>\n      <td>...</td>\n      <td>-1.726094</td>\n      <td>1.125755</td>\n      <td>-0.352180</td>\n      <td>-0.544924</td>\n      <td>-0.093467</td>\n      <td>-0.784642</td>\n      <td>-0.278345</td>\n      <td>0.444989</td>\n      <td>0.895999</td>\n      <td>0.153730</td>\n    </tr>\n    <tr>\n      <th>3</th>\n      <td>1000058</td>\n      <td>0.847278</td>\n      <td>1.352384</td>\n      <td>-1.004531</td>\n      <td>1.490209</td>\n      <td>1.398947</td>\n      <td>-1.508763</td>\n      <td>1.176881</td>\n      <td>-1.164744</td>\n      <td>1.711949</td>\n      <td>...</td>\n      <td>0.132917</td>\n      <td>0.406527</td>\n      <td>-0.551243</td>\n      <td>-0.256447</td>\n      <td>1.001336</td>\n      <td>-1.071869</td>\n      <td>1.090921</td>\n      <td>-0.241189</td>\n      <td>0.366977</td>\n      <td>-0.084286</td>\n    </tr>\n    <tr>\n      <th>4</th>\n      <td>1000116</td>\n      <td>-0.805020</td>\n      <td>-1.414212</td>\n      <td>-1.471695</td>\n      <td>-0.624252</td>\n      <td>-0.147236</td>\n      <td>-1.015938</td>\n      <td>-0.131356</td>\n      <td>-1.573774</td>\n      <td>-0.979470</td>\n      <td>...</td>\n      <td>1.752911</td>\n      <td>-0.531077</td>\n      <td>0.120916</td>\n      <td>-0.138439</td>\n      <td>0.928665</td>\n      <td>0.565118</td>\n      <td>-0.054315</td>\n      <td>-1.173920</td>\n      <td>-0.205888</td>\n      <td>-0.852839</td>\n    </tr>\n    <tr>\n      <th>...</th>\n      <td>...</td>\n      <td>...</td>\n      <td>...</td>\n      <td>...</td>\n      <td>...</td>\n      <td>...</td>\n      <td>...</td>\n      <td>...</td>\n      <td>...</td>\n      <td>...</td>\n      <td>...</td>\n      <td>...</td>\n      <td>...</td>\n      <td>...</td>\n      <td>...</td>\n      <td>...</td>\n      <td>...</td>\n      <td>...</td>\n      <td>...</td>\n      <td>...</td>\n      <td>...</td>\n    </tr>\n    <tr>\n      <th>336974</th>\n      <td>6023498</td>\n      <td>-0.779058</td>\n      <td>0.723359</td>\n      <td>0.627861</td>\n      <td>0.608226</td>\n      <td>0.502332</td>\n      <td>-0.416751</td>\n      <td>0.846122</td>\n      <td>1.364426</td>\n      <td>0.426492</td>\n      <td>...</td>\n      <td>0.026687</td>\n      <td>-0.632701</td>\n      <td>0.033418</td>\n      <td>0.165458</td>\n      <td>-0.954425</td>\n      <td>0.038104</td>\n      <td>-1.563399</td>\n      <td>0.586071</td>\n      <td>0.152152</td>\n      <td>-0.977810</td>\n    </tr>\n    <tr>\n      <th>336975</th>\n      <td>6023514</td>\n      <td>1.169570</td>\n      <td>-1.041206</td>\n      <td>0.685736</td>\n      <td>0.225246</td>\n      <td>0.006642</td>\n      <td>1.845830</td>\n      <td>-1.305210</td>\n      <td>-0.128534</td>\n      <td>0.239780</td>\n      <td>...</td>\n      <td>1.062422</td>\n      <td>-0.736056</td>\n      <td>0.243756</td>\n      <td>1.266113</td>\n      <td>0.187791</td>\n      <td>-1.071869</td>\n      <td>-0.570433</td>\n      <td>-0.486148</td>\n      <td>0.664426</td>\n      <td>-0.221420</td>\n    </tr>\n    <tr>\n      <th>336976</th>\n      <td>6023529</td>\n      <td>1.536596</td>\n      <td>-0.944525</td>\n      <td>-1.870310</td>\n      <td>-1.580533</td>\n      <td>0.422397</td>\n      <td>0.295691</td>\n      <td>1.207604</td>\n      <td>-0.898874</td>\n      <td>0.581479</td>\n      <td>...</td>\n      <td>-0.345115</td>\n      <td>0.528340</td>\n      <td>1.535187</td>\n      <td>0.872027</td>\n      <td>-0.182953</td>\n      <td>1.675091</td>\n      <td>0.401696</td>\n      <td>0.794166</td>\n      <td>-2.078717</td>\n      <td>0.779929</td>\n    </tr>\n    <tr>\n      <th>336977</th>\n      <td>6023541</td>\n      <td>-0.441969</td>\n      <td>-1.006966</td>\n      <td>2.482164</td>\n      <td>1.721099</td>\n      <td>0.079389</td>\n      <td>-1.418951</td>\n      <td>0.887717</td>\n      <td>0.580452</td>\n      <td>0.091717</td>\n      <td>...</td>\n      <td>-0.159214</td>\n      <td>-1.723317</td>\n      <td>-1.550319</td>\n      <td>-0.558635</td>\n      <td>0.989086</td>\n      <td>-1.071869</td>\n      <td>0.002586</td>\n      <td>-0.034688</td>\n      <td>-0.387663</td>\n      <td>0.904508</td>\n    </tr>\n    <tr>\n      <th>336978</th>\n      <td>6023565</td>\n      <td>-0.353833</td>\n      <td>0.647860</td>\n      <td>0.960631</td>\n      <td>-0.104022</td>\n      <td>-0.446332</td>\n      <td>0.060595</td>\n      <td>-1.187625</td>\n      <td>0.219142</td>\n      <td>-1.250758</td>\n      <td>...</td>\n      <td>-1.168391</td>\n      <td>-0.705962</td>\n      <td>0.219643</td>\n      <td>0.574246</td>\n      <td>-0.628420</td>\n      <td>0.565118</td>\n      <td>-0.970344</td>\n      <td>1.802898</td>\n      <td>-2.557941</td>\n      <td>0.163145</td>\n    </tr>\n  </tbody>\n</table>\n<p>336979 rows × 81 columns</p>\n</div>"
     },
     "execution_count": 3,
     "metadata": {},
     "output_type": "execute_result"
    }
   ],
   "source": [
    "prs_df"
   ],
   "metadata": {
    "collapsed": false,
    "ExecuteTime": {
     "end_time": "2024-11-08T03:03:54.831442Z",
     "start_time": "2024-11-08T03:03:54.695064Z"
    }
   }
  },
  {
   "cell_type": "code",
   "execution_count": 4,
   "outputs": [
    {
     "data": {
      "text/plain": "            eid  Class_A00  Class_A01  Class_A02  Class_A03  Class_A04  \\\n0       1000011          0          0          0          0          0   \n1       1000026          0          0          0          0          0   \n2       1000044          0          0          0          0          0   \n3       1000058          0          0          0          0          0   \n4       1000116          0          0          0          0          0   \n...         ...        ...        ...        ...        ...        ...   \n336974  6023498          0          0          0          0          0   \n336975  6023514          0          0          0          0          0   \n336976  6023529          0          0          0          0          0   \n336977  6023541          0          0          0          0          0   \n336978  6023565          0          0          0          0          0   \n\n        Class_A05  Class_A06  Class_A07  Class_A08  ...  Class_I48  Class_I63  \\\n0               0          0          0          0  ...          0          0   \n1               0          0          0          0  ...          0          0   \n2               0          0          0          0  ...          0          0   \n3               0          0          0          0  ...          1          0   \n4               0          0          0          0  ...          0          0   \n...           ...        ...        ...        ...  ...        ...        ...   \n336974          0          0          0          0  ...          0          0   \n336975          0          0          0          0  ...          1          0   \n336976          0          0          0          0  ...          1          0   \n336977          0          0          0          0  ...          0          1   \n336978          0          0          0          0  ...          0          0   \n\n        Class_I10  Class_F00  Class_F20  Class_C50  Class_C18  Class_C56  \\\n0               0          0          0          0          0          0   \n1               1          0          0          0          0          0   \n2               0          0          0          0          0          0   \n3               1          0          0          0          0          0   \n4               0          0          0          0          0          0   \n...           ...        ...        ...        ...        ...        ...   \n336974          0          0          0          0          0          0   \n336975          1          0          0          0          0          0   \n336976          0          0          0          0          0          0   \n336977          0          0          0          0          0          0   \n336978          0          0          0          0          0          0   \n\n        Class_J45  Class_M05  \n0               0          0  \n1               0          0  \n2               0          0  \n3               0          0  \n4               0          0  \n...           ...        ...  \n336974          0          0  \n336975          0          0  \n336976          0          0  \n336977          0          0  \n336978          1          0  \n\n[336979 rows x 106 columns]",
      "text/html": "<div>\n<style scoped>\n    .dataframe tbody tr th:only-of-type {\n        vertical-align: middle;\n    }\n\n    .dataframe tbody tr th {\n        vertical-align: top;\n    }\n\n    .dataframe thead th {\n        text-align: right;\n    }\n</style>\n<table border=\"1\" class=\"dataframe\">\n  <thead>\n    <tr style=\"text-align: right;\">\n      <th></th>\n      <th>eid</th>\n      <th>Class_A00</th>\n      <th>Class_A01</th>\n      <th>Class_A02</th>\n      <th>Class_A03</th>\n      <th>Class_A04</th>\n      <th>Class_A05</th>\n      <th>Class_A06</th>\n      <th>Class_A07</th>\n      <th>Class_A08</th>\n      <th>...</th>\n      <th>Class_I48</th>\n      <th>Class_I63</th>\n      <th>Class_I10</th>\n      <th>Class_F00</th>\n      <th>Class_F20</th>\n      <th>Class_C50</th>\n      <th>Class_C18</th>\n      <th>Class_C56</th>\n      <th>Class_J45</th>\n      <th>Class_M05</th>\n    </tr>\n  </thead>\n  <tbody>\n    <tr>\n      <th>0</th>\n      <td>1000011</td>\n      <td>0</td>\n      <td>0</td>\n      <td>0</td>\n      <td>0</td>\n      <td>0</td>\n      <td>0</td>\n      <td>0</td>\n      <td>0</td>\n      <td>0</td>\n      <td>...</td>\n      <td>0</td>\n      <td>0</td>\n      <td>0</td>\n      <td>0</td>\n      <td>0</td>\n      <td>0</td>\n      <td>0</td>\n      <td>0</td>\n      <td>0</td>\n      <td>0</td>\n    </tr>\n    <tr>\n      <th>1</th>\n      <td>1000026</td>\n      <td>0</td>\n      <td>0</td>\n      <td>0</td>\n      <td>0</td>\n      <td>0</td>\n      <td>0</td>\n      <td>0</td>\n      <td>0</td>\n      <td>0</td>\n      <td>...</td>\n      <td>0</td>\n      <td>0</td>\n      <td>1</td>\n      <td>0</td>\n      <td>0</td>\n      <td>0</td>\n      <td>0</td>\n      <td>0</td>\n      <td>0</td>\n      <td>0</td>\n    </tr>\n    <tr>\n      <th>2</th>\n      <td>1000044</td>\n      <td>0</td>\n      <td>0</td>\n      <td>0</td>\n      <td>0</td>\n      <td>0</td>\n      <td>0</td>\n      <td>0</td>\n      <td>0</td>\n      <td>0</td>\n      <td>...</td>\n      <td>0</td>\n      <td>0</td>\n      <td>0</td>\n      <td>0</td>\n      <td>0</td>\n      <td>0</td>\n      <td>0</td>\n      <td>0</td>\n      <td>0</td>\n      <td>0</td>\n    </tr>\n    <tr>\n      <th>3</th>\n      <td>1000058</td>\n      <td>0</td>\n      <td>0</td>\n      <td>0</td>\n      <td>0</td>\n      <td>0</td>\n      <td>0</td>\n      <td>0</td>\n      <td>0</td>\n      <td>0</td>\n      <td>...</td>\n      <td>1</td>\n      <td>0</td>\n      <td>1</td>\n      <td>0</td>\n      <td>0</td>\n      <td>0</td>\n      <td>0</td>\n      <td>0</td>\n      <td>0</td>\n      <td>0</td>\n    </tr>\n    <tr>\n      <th>4</th>\n      <td>1000116</td>\n      <td>0</td>\n      <td>0</td>\n      <td>0</td>\n      <td>0</td>\n      <td>0</td>\n      <td>0</td>\n      <td>0</td>\n      <td>0</td>\n      <td>0</td>\n      <td>...</td>\n      <td>0</td>\n      <td>0</td>\n      <td>0</td>\n      <td>0</td>\n      <td>0</td>\n      <td>0</td>\n      <td>0</td>\n      <td>0</td>\n      <td>0</td>\n      <td>0</td>\n    </tr>\n    <tr>\n      <th>...</th>\n      <td>...</td>\n      <td>...</td>\n      <td>...</td>\n      <td>...</td>\n      <td>...</td>\n      <td>...</td>\n      <td>...</td>\n      <td>...</td>\n      <td>...</td>\n      <td>...</td>\n      <td>...</td>\n      <td>...</td>\n      <td>...</td>\n      <td>...</td>\n      <td>...</td>\n      <td>...</td>\n      <td>...</td>\n      <td>...</td>\n      <td>...</td>\n      <td>...</td>\n      <td>...</td>\n    </tr>\n    <tr>\n      <th>336974</th>\n      <td>6023498</td>\n      <td>0</td>\n      <td>0</td>\n      <td>0</td>\n      <td>0</td>\n      <td>0</td>\n      <td>0</td>\n      <td>0</td>\n      <td>0</td>\n      <td>0</td>\n      <td>...</td>\n      <td>0</td>\n      <td>0</td>\n      <td>0</td>\n      <td>0</td>\n      <td>0</td>\n      <td>0</td>\n      <td>0</td>\n      <td>0</td>\n      <td>0</td>\n      <td>0</td>\n    </tr>\n    <tr>\n      <th>336975</th>\n      <td>6023514</td>\n      <td>0</td>\n      <td>0</td>\n      <td>0</td>\n      <td>0</td>\n      <td>0</td>\n      <td>0</td>\n      <td>0</td>\n      <td>0</td>\n      <td>0</td>\n      <td>...</td>\n      <td>1</td>\n      <td>0</td>\n      <td>1</td>\n      <td>0</td>\n      <td>0</td>\n      <td>0</td>\n      <td>0</td>\n      <td>0</td>\n      <td>0</td>\n      <td>0</td>\n    </tr>\n    <tr>\n      <th>336976</th>\n      <td>6023529</td>\n      <td>0</td>\n      <td>0</td>\n      <td>0</td>\n      <td>0</td>\n      <td>0</td>\n      <td>0</td>\n      <td>0</td>\n      <td>0</td>\n      <td>0</td>\n      <td>...</td>\n      <td>1</td>\n      <td>0</td>\n      <td>0</td>\n      <td>0</td>\n      <td>0</td>\n      <td>0</td>\n      <td>0</td>\n      <td>0</td>\n      <td>0</td>\n      <td>0</td>\n    </tr>\n    <tr>\n      <th>336977</th>\n      <td>6023541</td>\n      <td>0</td>\n      <td>0</td>\n      <td>0</td>\n      <td>0</td>\n      <td>0</td>\n      <td>0</td>\n      <td>0</td>\n      <td>0</td>\n      <td>0</td>\n      <td>...</td>\n      <td>0</td>\n      <td>1</td>\n      <td>0</td>\n      <td>0</td>\n      <td>0</td>\n      <td>0</td>\n      <td>0</td>\n      <td>0</td>\n      <td>0</td>\n      <td>0</td>\n    </tr>\n    <tr>\n      <th>336978</th>\n      <td>6023565</td>\n      <td>0</td>\n      <td>0</td>\n      <td>0</td>\n      <td>0</td>\n      <td>0</td>\n      <td>0</td>\n      <td>0</td>\n      <td>0</td>\n      <td>0</td>\n      <td>...</td>\n      <td>0</td>\n      <td>0</td>\n      <td>0</td>\n      <td>0</td>\n      <td>0</td>\n      <td>0</td>\n      <td>0</td>\n      <td>0</td>\n      <td>1</td>\n      <td>0</td>\n    </tr>\n  </tbody>\n</table>\n<p>336979 rows × 106 columns</p>\n</div>"
     },
     "execution_count": 4,
     "metadata": {},
     "output_type": "execute_result"
    }
   ],
   "source": [
    "label_df"
   ],
   "metadata": {
    "collapsed": false,
    "ExecuteTime": {
     "end_time": "2024-11-08T03:04:01.563210Z",
     "start_time": "2024-11-08T03:04:01.472953Z"
    }
   }
  },
  {
   "cell_type": "code",
   "execution_count": 5,
   "outputs": [
    {
     "data": {
      "text/plain": "           Positive_Counts\nClass_A00               18\nClass_A01               84\nClass_A02              554\nClass_A03              147\nClass_A04             5845\n...                    ...\nClass_C50            12694\nClass_C18             7027\nClass_C56             1359\nClass_J45            49477\nClass_M05             8835\n\n[105 rows x 1 columns]",
      "text/html": "<div>\n<style scoped>\n    .dataframe tbody tr th:only-of-type {\n        vertical-align: middle;\n    }\n\n    .dataframe tbody tr th {\n        vertical-align: top;\n    }\n\n    .dataframe thead th {\n        text-align: right;\n    }\n</style>\n<table border=\"1\" class=\"dataframe\">\n  <thead>\n    <tr style=\"text-align: right;\">\n      <th></th>\n      <th>Positive_Counts</th>\n    </tr>\n  </thead>\n  <tbody>\n    <tr>\n      <th>Class_A00</th>\n      <td>18</td>\n    </tr>\n    <tr>\n      <th>Class_A01</th>\n      <td>84</td>\n    </tr>\n    <tr>\n      <th>Class_A02</th>\n      <td>554</td>\n    </tr>\n    <tr>\n      <th>Class_A03</th>\n      <td>147</td>\n    </tr>\n    <tr>\n      <th>Class_A04</th>\n      <td>5845</td>\n    </tr>\n    <tr>\n      <th>...</th>\n      <td>...</td>\n    </tr>\n    <tr>\n      <th>Class_C50</th>\n      <td>12694</td>\n    </tr>\n    <tr>\n      <th>Class_C18</th>\n      <td>7027</td>\n    </tr>\n    <tr>\n      <th>Class_C56</th>\n      <td>1359</td>\n    </tr>\n    <tr>\n      <th>Class_J45</th>\n      <td>49477</td>\n    </tr>\n    <tr>\n      <th>Class_M05</th>\n      <td>8835</td>\n    </tr>\n  </tbody>\n</table>\n<p>105 rows × 1 columns</p>\n</div>"
     },
     "execution_count": 5,
     "metadata": {},
     "output_type": "execute_result"
    }
   ],
   "source": [
    "positive_counts = label_df.iloc[:, 1:].sum()\n",
    "positive_counts_df = positive_counts.to_frame(name='Positive_Counts')\n",
    "positive_counts_df"
   ],
   "metadata": {
    "collapsed": false,
    "ExecuteTime": {
     "end_time": "2024-11-08T03:04:12.658839Z",
     "start_time": "2024-11-08T03:04:12.581464Z"
    }
   }
  },
  {
   "cell_type": "code",
   "execution_count": 6,
   "outputs": [],
   "source": [
    "positive_counts_df_order = positive_counts_df.sort_values(by='Positive_Counts', ascending=False)"
   ],
   "metadata": {
    "collapsed": false,
    "ExecuteTime": {
     "end_time": "2024-11-08T03:04:24.586559Z",
     "start_time": "2024-11-08T03:04:24.543443Z"
    }
   }
  },
  {
   "cell_type": "code",
   "execution_count": 7,
   "outputs": [
    {
     "data": {
      "text/plain": "           Positive_Counts\nClass_I10           135881\nClass_J45            49477\nClass_I25            39523\nClass_I48            29871\nClass_F17            29865\n...                    ...\nClass_D60               12\nClass_D55               11\nClass_E12                6\nClass_G07                3\nClass_E00                0\n\n[105 rows x 1 columns]",
      "text/html": "<div>\n<style scoped>\n    .dataframe tbody tr th:only-of-type {\n        vertical-align: middle;\n    }\n\n    .dataframe tbody tr th {\n        vertical-align: top;\n    }\n\n    .dataframe thead th {\n        text-align: right;\n    }\n</style>\n<table border=\"1\" class=\"dataframe\">\n  <thead>\n    <tr style=\"text-align: right;\">\n      <th></th>\n      <th>Positive_Counts</th>\n    </tr>\n  </thead>\n  <tbody>\n    <tr>\n      <th>Class_I10</th>\n      <td>135881</td>\n    </tr>\n    <tr>\n      <th>Class_J45</th>\n      <td>49477</td>\n    </tr>\n    <tr>\n      <th>Class_I25</th>\n      <td>39523</td>\n    </tr>\n    <tr>\n      <th>Class_I48</th>\n      <td>29871</td>\n    </tr>\n    <tr>\n      <th>Class_F17</th>\n      <td>29865</td>\n    </tr>\n    <tr>\n      <th>...</th>\n      <td>...</td>\n    </tr>\n    <tr>\n      <th>Class_D60</th>\n      <td>12</td>\n    </tr>\n    <tr>\n      <th>Class_D55</th>\n      <td>11</td>\n    </tr>\n    <tr>\n      <th>Class_E12</th>\n      <td>6</td>\n    </tr>\n    <tr>\n      <th>Class_G07</th>\n      <td>3</td>\n    </tr>\n    <tr>\n      <th>Class_E00</th>\n      <td>0</td>\n    </tr>\n  </tbody>\n</table>\n<p>105 rows × 1 columns</p>\n</div>"
     },
     "execution_count": 7,
     "metadata": {},
     "output_type": "execute_result"
    }
   ],
   "source": [
    "positive_counts_df_order"
   ],
   "metadata": {
    "collapsed": false,
    "ExecuteTime": {
     "end_time": "2024-11-08T03:04:25.157085Z",
     "start_time": "2024-11-08T03:04:25.133305Z"
    }
   }
  },
  {
   "cell_type": "code",
   "execution_count": 8,
   "outputs": [],
   "source": [
    "label_selected = label_df['Class_I10']"
   ],
   "metadata": {
    "collapsed": false,
    "ExecuteTime": {
     "end_time": "2024-11-08T03:05:38.670318Z",
     "start_time": "2024-11-08T03:05:38.626693Z"
    }
   }
  },
  {
   "cell_type": "code",
   "execution_count": 9,
   "outputs": [
    {
     "data": {
      "text/plain": "0    0\n1    1\n2    0\n3    1\n4    0\nName: Class_I10, dtype: int64"
     },
     "execution_count": 9,
     "metadata": {},
     "output_type": "execute_result"
    }
   ],
   "source": [
    "label_selected.head()\n",
    "# TODO 筛选出列 11,8, 5:00"
   ],
   "metadata": {
    "collapsed": false,
    "ExecuteTime": {
     "end_time": "2024-11-08T03:05:43.145022Z",
     "start_time": "2024-11-08T03:05:43.127851Z"
    }
   }
  },
  {
   "cell_type": "code",
   "execution_count": 10,
   "outputs": [
    {
     "data": {
      "text/plain": "(336979,)"
     },
     "execution_count": 10,
     "metadata": {},
     "output_type": "execute_result"
    }
   ],
   "source": [
    "label_selected.shape #作为新的y"
   ],
   "metadata": {
    "collapsed": false,
    "ExecuteTime": {
     "end_time": "2024-11-08T03:05:46.870148Z",
     "start_time": "2024-11-08T03:05:46.824298Z"
    }
   }
  },
  {
   "cell_type": "code",
   "execution_count": 11,
   "outputs": [],
   "source": [
    "from sklearn.preprocessing import StandardScaler, MinMaxScaler\n",
    "features = prs_df.drop(columns=['FID'])\n",
    "scaler = MinMaxScaler()\n",
    "features_normalized = scaler.fit_transform(features)\n",
    "prs_df_normalized = pd.DataFrame(features_normalized, columns=features.columns)"
   ],
   "metadata": {
    "collapsed": false,
    "ExecuteTime": {
     "end_time": "2024-11-08T03:06:01.454859Z",
     "start_time": "2024-11-08T03:06:00.223798Z"
    }
   }
  },
  {
   "cell_type": "code",
   "execution_count": 12,
   "outputs": [],
   "source": [
    "prs_df_normalized['FID'] = prs_df['FID']"
   ],
   "metadata": {
    "collapsed": false,
    "ExecuteTime": {
     "end_time": "2024-11-08T03:06:01.456066Z",
     "start_time": "2024-11-08T03:06:01.455994Z"
    }
   }
  },
  {
   "cell_type": "code",
   "execution_count": 13,
   "outputs": [
    {
     "data": {
      "text/plain": "              AF       CAD       DCM        HT       ISS       VTE       STK  \\\n0       0.432506  0.461849  0.456030  0.640938  0.421417  0.458939  0.444609   \n1       0.283769  0.553655  0.315785  0.573452  0.422716  0.608267  0.463927   \n2       0.513724  0.793488  0.666151  0.712178  0.540801  0.536003  0.544809   \n3       0.542962  0.660626  0.373286  0.701423  0.663316  0.357149  0.597843   \n4       0.358410  0.360095  0.325526  0.472314  0.500265  0.405614  0.463681   \n...          ...       ...       ...       ...       ...       ...       ...   \n336974  0.361310  0.592296  0.540172  0.605857  0.568765  0.464538  0.563923   \n336975  0.578960  0.400614  0.546089  0.564360  0.516492  0.687043  0.343300   \n336976  0.619955  0.411116  0.284774  0.368698  0.560335  0.534601  0.600993   \n336977  0.398961  0.404333  0.729745  0.726441  0.524163  0.365981  0.568188   \n336978  0.408805  0.584095  0.574192  0.528683  0.468724  0.511481  0.355359   \n\n              HF        IH       AAA  ...        HB       HIR       IRM  \\\n0       0.268111  0.530358  0.686878  ...  0.592280  0.654823  0.663314   \n1       0.309186  0.437324  0.662286  ...  0.633660  0.611275  0.573128   \n2       0.370426  0.360538  0.620975  ...  0.639042  0.498190  0.436367   \n3       0.330844  0.719281  0.612873  ...  0.560868  0.479060  0.468312   \n4       0.286034  0.418592  0.540207  ...  0.458958  0.543655  0.481380   \n...          ...       ...       ...  ...       ...       ...       ...   \n336974  0.607916  0.575668  0.529904  ...  0.447913  0.535246  0.515032   \n336975  0.444361  0.554808  0.404555  ...  0.436679  0.555460  0.636914   \n336976  0.359970  0.592983  0.499185  ...  0.574108  0.679567  0.593275   \n336977  0.522031  0.538267  0.529901  ...  0.329372  0.383048  0.434849   \n336978  0.482450  0.388284  0.569743  ...  0.439950  0.553143  0.560300   \n\n             ISM       NMR        PM       TSH        TM       AST      FID  \n0       0.256496  0.000000  0.426032  0.501385  0.710446  0.467130  1000011  \n1       0.463352  0.000000  0.534133  0.629220  0.641481  0.430507  1000026  \n2       0.449841  0.087730  0.514715  0.584219  0.633388  0.513268  1000044  \n3       0.582258  0.000000  0.658001  0.506742  0.584686  0.487020  1000058  \n4       0.573469  0.500000  0.538158  0.401427  0.531947  0.402267  1000116  \n...          ...       ...       ...       ...       ...       ...      ...  \n336974  0.345707  0.339029  0.380242  0.600149  0.564909  0.388485  6023498  \n336975  0.483859  0.000000  0.484150  0.479084  0.612069  0.471898  6023514  \n336976  0.439017  0.839029  0.585877  0.623645  0.359533  0.582323  6023529  \n336977  0.580777  0.000000  0.544113  0.530059  0.515213  0.596061  6023541  \n336978  0.385138  0.500000  0.442301  0.737542  0.315416  0.514306  6023565  \n\n[336979 rows x 81 columns]",
      "text/html": "<div>\n<style scoped>\n    .dataframe tbody tr th:only-of-type {\n        vertical-align: middle;\n    }\n\n    .dataframe tbody tr th {\n        vertical-align: top;\n    }\n\n    .dataframe thead th {\n        text-align: right;\n    }\n</style>\n<table border=\"1\" class=\"dataframe\">\n  <thead>\n    <tr style=\"text-align: right;\">\n      <th></th>\n      <th>AF</th>\n      <th>CAD</th>\n      <th>DCM</th>\n      <th>HT</th>\n      <th>ISS</th>\n      <th>VTE</th>\n      <th>STK</th>\n      <th>HF</th>\n      <th>IH</th>\n      <th>AAA</th>\n      <th>...</th>\n      <th>HB</th>\n      <th>HIR</th>\n      <th>IRM</th>\n      <th>ISM</th>\n      <th>NMR</th>\n      <th>PM</th>\n      <th>TSH</th>\n      <th>TM</th>\n      <th>AST</th>\n      <th>FID</th>\n    </tr>\n  </thead>\n  <tbody>\n    <tr>\n      <th>0</th>\n      <td>0.432506</td>\n      <td>0.461849</td>\n      <td>0.456030</td>\n      <td>0.640938</td>\n      <td>0.421417</td>\n      <td>0.458939</td>\n      <td>0.444609</td>\n      <td>0.268111</td>\n      <td>0.530358</td>\n      <td>0.686878</td>\n      <td>...</td>\n      <td>0.592280</td>\n      <td>0.654823</td>\n      <td>0.663314</td>\n      <td>0.256496</td>\n      <td>0.000000</td>\n      <td>0.426032</td>\n      <td>0.501385</td>\n      <td>0.710446</td>\n      <td>0.467130</td>\n      <td>1000011</td>\n    </tr>\n    <tr>\n      <th>1</th>\n      <td>0.283769</td>\n      <td>0.553655</td>\n      <td>0.315785</td>\n      <td>0.573452</td>\n      <td>0.422716</td>\n      <td>0.608267</td>\n      <td>0.463927</td>\n      <td>0.309186</td>\n      <td>0.437324</td>\n      <td>0.662286</td>\n      <td>...</td>\n      <td>0.633660</td>\n      <td>0.611275</td>\n      <td>0.573128</td>\n      <td>0.463352</td>\n      <td>0.000000</td>\n      <td>0.534133</td>\n      <td>0.629220</td>\n      <td>0.641481</td>\n      <td>0.430507</td>\n      <td>1000026</td>\n    </tr>\n    <tr>\n      <th>2</th>\n      <td>0.513724</td>\n      <td>0.793488</td>\n      <td>0.666151</td>\n      <td>0.712178</td>\n      <td>0.540801</td>\n      <td>0.536003</td>\n      <td>0.544809</td>\n      <td>0.370426</td>\n      <td>0.360538</td>\n      <td>0.620975</td>\n      <td>...</td>\n      <td>0.639042</td>\n      <td>0.498190</td>\n      <td>0.436367</td>\n      <td>0.449841</td>\n      <td>0.087730</td>\n      <td>0.514715</td>\n      <td>0.584219</td>\n      <td>0.633388</td>\n      <td>0.513268</td>\n      <td>1000044</td>\n    </tr>\n    <tr>\n      <th>3</th>\n      <td>0.542962</td>\n      <td>0.660626</td>\n      <td>0.373286</td>\n      <td>0.701423</td>\n      <td>0.663316</td>\n      <td>0.357149</td>\n      <td>0.597843</td>\n      <td>0.330844</td>\n      <td>0.719281</td>\n      <td>0.612873</td>\n      <td>...</td>\n      <td>0.560868</td>\n      <td>0.479060</td>\n      <td>0.468312</td>\n      <td>0.582258</td>\n      <td>0.000000</td>\n      <td>0.658001</td>\n      <td>0.506742</td>\n      <td>0.584686</td>\n      <td>0.487020</td>\n      <td>1000058</td>\n    </tr>\n    <tr>\n      <th>4</th>\n      <td>0.358410</td>\n      <td>0.360095</td>\n      <td>0.325526</td>\n      <td>0.472314</td>\n      <td>0.500265</td>\n      <td>0.405614</td>\n      <td>0.463681</td>\n      <td>0.286034</td>\n      <td>0.418592</td>\n      <td>0.540207</td>\n      <td>...</td>\n      <td>0.458958</td>\n      <td>0.543655</td>\n      <td>0.481380</td>\n      <td>0.573469</td>\n      <td>0.500000</td>\n      <td>0.538158</td>\n      <td>0.401427</td>\n      <td>0.531947</td>\n      <td>0.402267</td>\n      <td>1000116</td>\n    </tr>\n    <tr>\n      <th>...</th>\n      <td>...</td>\n      <td>...</td>\n      <td>...</td>\n      <td>...</td>\n      <td>...</td>\n      <td>...</td>\n      <td>...</td>\n      <td>...</td>\n      <td>...</td>\n      <td>...</td>\n      <td>...</td>\n      <td>...</td>\n      <td>...</td>\n      <td>...</td>\n      <td>...</td>\n      <td>...</td>\n      <td>...</td>\n      <td>...</td>\n      <td>...</td>\n      <td>...</td>\n      <td>...</td>\n    </tr>\n    <tr>\n      <th>336974</th>\n      <td>0.361310</td>\n      <td>0.592296</td>\n      <td>0.540172</td>\n      <td>0.605857</td>\n      <td>0.568765</td>\n      <td>0.464538</td>\n      <td>0.563923</td>\n      <td>0.607916</td>\n      <td>0.575668</td>\n      <td>0.529904</td>\n      <td>...</td>\n      <td>0.447913</td>\n      <td>0.535246</td>\n      <td>0.515032</td>\n      <td>0.345707</td>\n      <td>0.339029</td>\n      <td>0.380242</td>\n      <td>0.600149</td>\n      <td>0.564909</td>\n      <td>0.388485</td>\n      <td>6023498</td>\n    </tr>\n    <tr>\n      <th>336975</th>\n      <td>0.578960</td>\n      <td>0.400614</td>\n      <td>0.546089</td>\n      <td>0.564360</td>\n      <td>0.516492</td>\n      <td>0.687043</td>\n      <td>0.343300</td>\n      <td>0.444361</td>\n      <td>0.554808</td>\n      <td>0.404555</td>\n      <td>...</td>\n      <td>0.436679</td>\n      <td>0.555460</td>\n      <td>0.636914</td>\n      <td>0.483859</td>\n      <td>0.000000</td>\n      <td>0.484150</td>\n      <td>0.479084</td>\n      <td>0.612069</td>\n      <td>0.471898</td>\n      <td>6023514</td>\n    </tr>\n    <tr>\n      <th>336976</th>\n      <td>0.619955</td>\n      <td>0.411116</td>\n      <td>0.284774</td>\n      <td>0.368698</td>\n      <td>0.560335</td>\n      <td>0.534601</td>\n      <td>0.600993</td>\n      <td>0.359970</td>\n      <td>0.592983</td>\n      <td>0.499185</td>\n      <td>...</td>\n      <td>0.574108</td>\n      <td>0.679567</td>\n      <td>0.593275</td>\n      <td>0.439017</td>\n      <td>0.839029</td>\n      <td>0.585877</td>\n      <td>0.623645</td>\n      <td>0.359533</td>\n      <td>0.582323</td>\n      <td>6023529</td>\n    </tr>\n    <tr>\n      <th>336977</th>\n      <td>0.398961</td>\n      <td>0.404333</td>\n      <td>0.729745</td>\n      <td>0.726441</td>\n      <td>0.524163</td>\n      <td>0.365981</td>\n      <td>0.568188</td>\n      <td>0.522031</td>\n      <td>0.538267</td>\n      <td>0.529901</td>\n      <td>...</td>\n      <td>0.329372</td>\n      <td>0.383048</td>\n      <td>0.434849</td>\n      <td>0.580777</td>\n      <td>0.000000</td>\n      <td>0.544113</td>\n      <td>0.530059</td>\n      <td>0.515213</td>\n      <td>0.596061</td>\n      <td>6023541</td>\n    </tr>\n    <tr>\n      <th>336978</th>\n      <td>0.408805</td>\n      <td>0.584095</td>\n      <td>0.574192</td>\n      <td>0.528683</td>\n      <td>0.468724</td>\n      <td>0.511481</td>\n      <td>0.355359</td>\n      <td>0.482450</td>\n      <td>0.388284</td>\n      <td>0.569743</td>\n      <td>...</td>\n      <td>0.439950</td>\n      <td>0.553143</td>\n      <td>0.560300</td>\n      <td>0.385138</td>\n      <td>0.500000</td>\n      <td>0.442301</td>\n      <td>0.737542</td>\n      <td>0.315416</td>\n      <td>0.514306</td>\n      <td>6023565</td>\n    </tr>\n  </tbody>\n</table>\n<p>336979 rows × 81 columns</p>\n</div>"
     },
     "execution_count": 13,
     "metadata": {},
     "output_type": "execute_result"
    }
   ],
   "source": [
    "prs_df_normalized"
   ],
   "metadata": {
    "collapsed": false,
    "ExecuteTime": {
     "end_time": "2024-11-08T03:06:03.021547Z",
     "start_time": "2024-11-08T03:06:02.764306Z"
    }
   }
  },
  {
   "cell_type": "code",
   "execution_count": 14,
   "outputs": [],
   "source": [
    "X_tensor = torch.tensor(prs_df_normalized.iloc[:,:-1].values, dtype=torch.float32)"
   ],
   "metadata": {
    "collapsed": false,
    "ExecuteTime": {
     "end_time": "2024-11-08T03:06:15.903860Z",
     "start_time": "2024-11-08T03:06:15.827822Z"
    }
   }
  },
  {
   "cell_type": "code",
   "execution_count": 15,
   "outputs": [
    {
     "data": {
      "text/plain": "torch.Size([336979, 80])"
     },
     "execution_count": 15,
     "metadata": {},
     "output_type": "execute_result"
    }
   ],
   "source": [
    "X_tensor.size()"
   ],
   "metadata": {
    "collapsed": false,
    "ExecuteTime": {
     "end_time": "2024-11-08T03:06:16.108905Z",
     "start_time": "2024-11-08T03:06:16.104347Z"
    }
   }
  },
  {
   "cell_type": "code",
   "execution_count": 26,
   "outputs": [],
   "source": [
    "y_tensor = torch.tensor(label_selected.values, dtype=torch.float32)"
   ],
   "metadata": {
    "collapsed": false,
    "ExecuteTime": {
     "end_time": "2024-11-08T03:10:16.466286Z",
     "start_time": "2024-11-08T03:10:16.411589Z"
    }
   }
  },
  {
   "cell_type": "code",
   "execution_count": 27,
   "outputs": [],
   "source": [
    "y_tensor = y_tensor.unsqueeze(1)"
   ],
   "metadata": {
    "collapsed": false,
    "ExecuteTime": {
     "end_time": "2024-11-08T03:10:17.139226Z",
     "start_time": "2024-11-08T03:10:17.137225Z"
    }
   }
  },
  {
   "cell_type": "code",
   "execution_count": 28,
   "outputs": [
    {
     "data": {
      "text/plain": "torch.Size([336979, 1])"
     },
     "execution_count": 28,
     "metadata": {},
     "output_type": "execute_result"
    }
   ],
   "source": [
    "y_tensor.size()"
   ],
   "metadata": {
    "collapsed": false,
    "ExecuteTime": {
     "end_time": "2024-11-08T03:10:17.856817Z",
     "start_time": "2024-11-08T03:10:17.775556Z"
    }
   }
  },
  {
   "cell_type": "code",
   "execution_count": 29,
   "outputs": [],
   "source": [
    "X_train, X_test, y_train, y_test = train_test_split(X_tensor, y_tensor, test_size=0.2, random_state=42)"
   ],
   "metadata": {
    "collapsed": false,
    "ExecuteTime": {
     "end_time": "2024-11-08T03:10:21.132566Z",
     "start_time": "2024-11-08T03:10:21.041685Z"
    }
   }
  },
  {
   "cell_type": "code",
   "execution_count": 30,
   "outputs": [],
   "source": [
    "class MLP(nn.Module):\n",
    "    def __init__(self, input_size, output_size):\n",
    "        super(MLP, self).__init__()\n",
    "        self.fc1 = nn.Linear(input_size, 128)\n",
    "        self.fc2 = nn.Linear(128, 64)\n",
    "        self.fc3 = nn.Linear(64, output_size)\n",
    "        self.dropout = nn.Dropout(0.3)\n",
    "        self.relu = nn.ReLU()\n",
    "\n",
    "    def forward(self, x):\n",
    "        x = self.relu(self.fc1(x))\n",
    "        x = self.dropout(x)\n",
    "        x = self.relu(self.fc2(x))\n",
    "        x = torch.sigmoid(self.fc3(x))\n",
    "        return x"
   ],
   "metadata": {
    "collapsed": false,
    "ExecuteTime": {
     "end_time": "2024-11-08T03:10:21.700889Z",
     "start_time": "2024-11-08T03:10:21.673876Z"
    }
   }
  },
  {
   "cell_type": "code",
   "execution_count": 31,
   "outputs": [],
   "source": [
    "input_size = X_train.shape[1]\n",
    "output_size = y_train.shape[1]\n",
    "model = MLP(input_size, output_size)"
   ],
   "metadata": {
    "collapsed": false,
    "ExecuteTime": {
     "end_time": "2024-11-08T03:10:33.118682Z",
     "start_time": "2024-11-08T03:10:33.058777Z"
    }
   }
  },
  {
   "cell_type": "code",
   "execution_count": 32,
   "outputs": [
    {
     "data": {
      "text/plain": "80"
     },
     "execution_count": 32,
     "metadata": {},
     "output_type": "execute_result"
    }
   ],
   "source": [
    "input_size"
   ],
   "metadata": {
    "collapsed": false,
    "ExecuteTime": {
     "end_time": "2024-11-08T03:10:34.112418Z",
     "start_time": "2024-11-08T03:10:34.102074Z"
    }
   }
  },
  {
   "cell_type": "code",
   "execution_count": 33,
   "outputs": [],
   "source": [
    "# pos_weight = torch.tensor([len(y_train) / y_train.sum().item()], dtype=torch.float32)\n",
    "# criterion = nn.BCEWithLogitsLoss(pos_weight=pos_weight)\n",
    "criterion = nn.BCELoss()\n",
    "optimizer = optim.Adam(model.parameters(), lr=0.0001)"
   ],
   "metadata": {
    "collapsed": false,
    "ExecuteTime": {
     "end_time": "2024-11-08T03:10:35.992447Z",
     "start_time": "2024-11-08T03:10:35.966699Z"
    }
   }
  },
  {
   "cell_type": "code",
   "execution_count": 34,
   "outputs": [],
   "source": [
    "train_dataset = TensorDataset(X_train, y_train)\n",
    "train_loader = DataLoader(train_dataset, batch_size=5096, shuffle=True)\n",
    "# from torch.utils.data import WeightedRandomSampler\n",
    "# pos_weight = torch.tensor([len(y_train) / y_train.sum().item()], dtype=torch.float32)\n",
    "#\n",
    "# class_weights = [1.0 if label == 0 else pos_weight.item() for label in y_train.numpy()]\n",
    "# sampler = WeightedRandomSampler(class_weights, len(class_weights), replacement=True)\n",
    "# train_loader = DataLoader(train_dataset, batch_size=64, sampler=sampler)"
   ],
   "metadata": {
    "collapsed": false,
    "ExecuteTime": {
     "end_time": "2024-11-08T03:10:37.076834Z",
     "start_time": "2024-11-08T03:10:37.055013Z"
    }
   }
  },
  {
   "cell_type": "code",
   "execution_count": 36,
   "outputs": [
    {
     "name": "stdout",
     "output_type": "stream",
     "text": [
      "Epoch [1/30], Loss: 0.6252\n",
      "Epoch [2/30], Loss: 0.6251\n",
      "Epoch [3/30], Loss: 0.6251\n",
      "Epoch [4/30], Loss: 0.6249\n",
      "Epoch [5/30], Loss: 0.6246\n",
      "Epoch [6/30], Loss: 0.6247\n",
      "Epoch [7/30], Loss: 0.6246\n",
      "Epoch [8/30], Loss: 0.6246\n",
      "Epoch [9/30], Loss: 0.6245\n",
      "Epoch [10/30], Loss: 0.6244\n",
      "Epoch [11/30], Loss: 0.6243\n",
      "Epoch [12/30], Loss: 0.6241\n",
      "Epoch [13/30], Loss: 0.6240\n",
      "Epoch [14/30], Loss: 0.6238\n",
      "Epoch [15/30], Loss: 0.6238\n",
      "Epoch [16/30], Loss: 0.6237\n",
      "Epoch [17/30], Loss: 0.6240\n",
      "Epoch [18/30], Loss: 0.6237\n",
      "Epoch [19/30], Loss: 0.6238\n",
      "Epoch [20/30], Loss: 0.6234\n",
      "Epoch [21/30], Loss: 0.6233\n",
      "Epoch [22/30], Loss: 0.6234\n",
      "Epoch [23/30], Loss: 0.6233\n",
      "Epoch [24/30], Loss: 0.6231\n",
      "Epoch [25/30], Loss: 0.6231\n",
      "Epoch [26/30], Loss: 0.6231\n",
      "Epoch [27/30], Loss: 0.6232\n",
      "Epoch [28/30], Loss: 0.6229\n",
      "Epoch [29/30], Loss: 0.6234\n",
      "Epoch [30/30], Loss: 0.6230\n"
     ]
    }
   ],
   "source": [
    "num_epochs = 30\n",
    "model.train()\n",
    "for epoch in range(num_epochs):\n",
    "    running_loss = 0.0\n",
    "    for X_batch, y_batch in train_loader:\n",
    "        outputs = model(X_batch)\n",
    "        loss = criterion(outputs, y_batch)\n",
    "        optimizer.zero_grad()\n",
    "        loss.backward()\n",
    "        optimizer.step()\n",
    "        running_loss += loss.item()\n",
    "    print(f\"Epoch [{epoch+1}/{num_epochs}], Loss: {running_loss/len(train_loader):.4f}\")"
   ],
   "metadata": {
    "collapsed": false,
    "ExecuteTime": {
     "end_time": "2024-11-08T03:13:28.232085Z",
     "start_time": "2024-11-08T03:12:06.616224Z"
    }
   }
  },
  {
   "cell_type": "code",
   "execution_count": 37,
   "outputs": [],
   "source": [
    "model.eval()\n",
    "from sklearn import metrics\n",
    "with torch.no_grad():\n",
    "    y_pred = model(X_test).numpy()\n",
    "    y_true = y_test.numpy()\n",
    "    fpr, tpr, thresholds = metrics.roc_curve(y_true, y_pred)\n",
    "    aupr = metrics.average_precision_score(y_true, y_pred)\n",
    "    roc_auc = metrics.auc(fpr, tpr)"
   ],
   "metadata": {
    "collapsed": false,
    "ExecuteTime": {
     "end_time": "2024-11-08T03:15:19.538241Z",
     "start_time": "2024-11-08T03:15:19.434666Z"
    }
   }
  },
  {
   "cell_type": "code",
   "execution_count": 38,
   "outputs": [
    {
     "data": {
      "text/plain": "(0.6849201154493059, 0.5885584529795603)"
     },
     "execution_count": 38,
     "metadata": {},
     "output_type": "execute_result"
    }
   ],
   "source": [
    "roc_auc, aupr # ROC AUC 值较高（0.919），而 AUPR 值却非常低（0.00018）。模型虽然整体分类能力较强（ROC AUC 高），但在正类（即标签为 1 的样本）上的表现较差"
   ],
   "metadata": {
    "collapsed": false,
    "ExecuteTime": {
     "end_time": "2024-11-08T03:15:24.373273Z",
     "start_time": "2024-11-08T03:15:24.328447Z"
    }
   }
  },
  {
   "cell_type": "code",
   "execution_count": 35,
   "outputs": [],
   "source": [
    "# model.eval()\n",
    "# with torch.no_grad():\n",
    "#     y_pred = model(X_test)  # 预测概率\n",
    "#     # y_pred_binary = (y_pred >= 0.5).float()"
   ],
   "metadata": {
    "collapsed": false,
    "ExecuteTime": {
     "end_time": "2024-11-08T02:58:13.758518Z",
     "start_time": "2024-11-08T02:58:13.717801Z"
    }
   }
  },
  {
   "cell_type": "code",
   "execution_count": 36,
   "outputs": [
    {
     "data": {
      "text/plain": "['Class_I10',\n 'Class_A09',\n 'Class_F05',\n 'Class_D51',\n 'Class_F06',\n 'Class_G12',\n 'Class_G06',\n 'Class_A03',\n 'Class_I06',\n 'Class_D57']"
     },
     "execution_count": 36,
     "metadata": {},
     "output_type": "execute_result"
    }
   ],
   "source": [
    "# selected_columns"
   ],
   "metadata": {
    "collapsed": false,
    "ExecuteTime": {
     "end_time": "2024-11-08T02:58:50.562811Z",
     "start_time": "2024-11-08T02:58:50.523122Z"
    }
   }
  },
  {
   "cell_type": "code",
   "execution_count": 37,
   "outputs": [
    {
     "name": "stdout",
     "output_type": "stream",
     "text": [
      "Class_I10 的 AUC: 0.6792, AUPR: 0.5833\n",
      "Class_A09 的 AUC: 0.5041, AUPR: 0.0538\n",
      "Class_F05 的 AUC: 0.4841, AUPR: 0.0172\n",
      "Class_D51 的 AUC: 0.5119, AUPR: 0.0080\n",
      "Class_F06 的 AUC: 0.4918, AUPR: 0.0034\n",
      "Class_G12 的 AUC: 0.5390, AUPR: 0.0020\n",
      "Class_G06 的 AUC: 0.5192, AUPR: 0.0009\n",
      "Class_A03 的 AUC: 0.5135, AUPR: 0.0005\n",
      "Class_I06 的 AUC: 0.3989, AUPR: 0.0002\n",
      "Class_D57 的 AUC: 0.5014, AUPR: 0.0001\n"
     ]
    }
   ],
   "source": [
    "# from sklearn.metrics import roc_auc_score, average_precision_score\n",
    "#\n",
    "# y_true = y_test.numpy()\n",
    "# y_scores = y_pred.numpy()\n",
    "#\n",
    "# auc_scores = {}\n",
    "# aupr_scores = {}\n",
    "#\n",
    "# for i in range(y_true.shape[1]):\n",
    "#     label_name = selected_columns[i]\n",
    "#     auc = roc_auc_score(y_true[:, i], y_scores[:, i])\n",
    "#     auc_scores[label_name] = auc\n",
    "#\n",
    "#     aupr = average_precision_score(y_true[:, i], y_scores[:, i])\n",
    "#     aupr_scores[label_name] = aupr\n",
    "#     print(f\"{label_name} 的 AUC: {auc:.4f}, AUPR: {aupr:.4f}\")\n",
    "#\n",
    "# metrics_df = pd.DataFrame({\n",
    "#     'AUC': auc_scores,\n",
    "#     'AUPR': aupr_scores\n",
    "# })\n"
   ],
   "metadata": {
    "collapsed": false,
    "ExecuteTime": {
     "end_time": "2024-11-08T03:00:08.827903Z",
     "start_time": "2024-11-08T03:00:08.441815Z"
    }
   }
  },
  {
   "cell_type": "code",
   "execution_count": null,
   "outputs": [],
   "source": [],
   "metadata": {
    "collapsed": false
   }
  }
 ],
 "metadata": {
  "kernelspec": {
   "display_name": "Python 3",
   "language": "python",
   "name": "python3"
  },
  "language_info": {
   "codemirror_mode": {
    "name": "ipython",
    "version": 2
   },
   "file_extension": ".py",
   "mimetype": "text/x-python",
   "name": "python",
   "nbconvert_exporter": "python",
   "pygments_lexer": "ipython2",
   "version": "2.7.6"
  }
 },
 "nbformat": 4,
 "nbformat_minor": 0
}
