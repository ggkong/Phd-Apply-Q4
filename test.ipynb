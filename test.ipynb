{
 "cells": [
  {
   "cell_type": "code",
   "execution_count": 1,
   "metadata": {
    "collapsed": true,
    "ExecuteTime": {
     "end_time": "2024-11-07T11:25:10.883796Z",
     "start_time": "2024-11-07T11:25:10.766329Z"
    }
   },
   "outputs": [
    {
     "ename": "SyntaxError",
     "evalue": "invalid syntax (_metadata_requests.py, line 1512)",
     "output_type": "error",
     "traceback": [
      "Traceback \u001B[0;36m(most recent call last)\u001B[0m:\n",
      "  File \u001B[1;32m\"/home/kongge/.conda/envs/kongge_pytorch_cpu/lib/python3.7/site-packages/IPython/core/interactiveshell.py\"\u001B[0m, line \u001B[1;32m3553\u001B[0m, in \u001B[1;35mrun_code\u001B[0m\n    exec(code_obj, self.user_global_ns, self.user_ns)\n",
      "  File \u001B[1;32m\"/tmp/ipykernel_834/3412662884.py\"\u001B[0m, line \u001B[1;32m1\u001B[0m, in \u001B[1;35m<module>\u001B[0m\n    from imblearn.over_sampling import MultilabelSMOTE\n",
      "  File \u001B[1;32m\"/home/kongge/.conda/envs/kongge_pytorch_cpu/lib/python3.7/site-packages/imblearn/__init__.py\"\u001B[0m, line \u001B[1;32m52\u001B[0m, in \u001B[1;35m<module>\u001B[0m\n    from . import (\n",
      "  File \u001B[1;32m\"/home/kongge/.conda/envs/kongge_pytorch_cpu/lib/python3.7/site-packages/imblearn/ensemble/__init__.py\"\u001B[0m, line \u001B[1;32m6\u001B[0m, in \u001B[1;35m<module>\u001B[0m\n    from ._bagging import BalancedBaggingClassifier\n",
      "  File \u001B[1;32m\"/home/kongge/.conda/envs/kongge_pytorch_cpu/lib/python3.7/site-packages/imblearn/ensemble/_bagging.py\"\u001B[0m, line \u001B[1;32m30\u001B[0m, in \u001B[1;35m<module>\u001B[0m\n    from ..pipeline import Pipeline\n",
      "\u001B[0;36m  File \u001B[0;32m\"/home/kongge/.conda/envs/kongge_pytorch_cpu/lib/python3.7/site-packages/imblearn/pipeline.py\"\u001B[0;36m, line \u001B[0;32m24\u001B[0;36m, in \u001B[0;35m<module>\u001B[0;36m\u001B[0m\n\u001B[0;31m    from .utils._metadata_requests import (\u001B[0m\n",
      "\u001B[0;36m  File \u001B[0;32m\"/home/kongge/.conda/envs/kongge_pytorch_cpu/lib/python3.7/site-packages/imblearn/utils/_metadata_requests.py\"\u001B[0;36m, line \u001B[0;32m1512\u001B[0m\n\u001B[0;31m    def process_routing(_obj, _method, /, **kwargs):\u001B[0m\n\u001B[0m                                       ^\u001B[0m\n\u001B[0;31mSyntaxError\u001B[0m\u001B[0;31m:\u001B[0m invalid syntax\n"
     ]
    }
   ],
   "source": [
    "from imblearn.over_sampling import MultilabelSMOTE"
   ]
  },
  {
   "cell_type": "code",
   "execution_count": null,
   "outputs": [],
   "source": [],
   "metadata": {
    "collapsed": false
   }
  }
 ],
 "metadata": {
  "kernelspec": {
   "display_name": "Python 3",
   "language": "python",
   "name": "python3"
  },
  "language_info": {
   "codemirror_mode": {
    "name": "ipython",
    "version": 2
   },
   "file_extension": ".py",
   "mimetype": "text/x-python",
   "name": "python",
   "nbconvert_exporter": "python",
   "pygments_lexer": "ipython2",
   "version": "2.7.6"
  }
 },
 "nbformat": 4,
 "nbformat_minor": 0
}
